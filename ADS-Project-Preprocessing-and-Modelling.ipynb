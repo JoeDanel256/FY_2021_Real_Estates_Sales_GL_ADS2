{
 "cells": [
  {
   "cell_type": "code",
   "execution_count": 1,
   "id": "5c59b101",
   "metadata": {},
   "outputs": [],
   "source": [
    "import numpy as np\n",
    "import pandas as pd\n",
    "import matplotlib.pyplot as plt\n",
    "import plotly.express as px\n",
    "import seaborn as sns\n",
    "import warnings\n",
    "warnings.filterwarnings('ignore')"
   ]
  },
  {
   "cell_type": "code",
   "execution_count": 2,
   "id": "0bfd7ef0",
   "metadata": {},
   "outputs": [],
   "source": [
    "# reading the csv file\n",
    "project= pd.read_csv(\"c:/Users/ME/Desktop/Real_Estate_Sales_2001-2020_GL.csv\")"
   ]
  },
  {
   "cell_type": "code",
   "execution_count": 3,
   "id": "5211c352",
   "metadata": {},
   "outputs": [
    {
     "data": {
      "text/html": [
       "<div>\n",
       "<style scoped>\n",
       "    .dataframe tbody tr th:only-of-type {\n",
       "        vertical-align: middle;\n",
       "    }\n",
       "\n",
       "    .dataframe tbody tr th {\n",
       "        vertical-align: top;\n",
       "    }\n",
       "\n",
       "    .dataframe thead th {\n",
       "        text-align: right;\n",
       "    }\n",
       "</style>\n",
       "<table border=\"1\" class=\"dataframe\">\n",
       "  <thead>\n",
       "    <tr style=\"text-align: right;\">\n",
       "      <th></th>\n",
       "      <th>Serial Number</th>\n",
       "      <th>List Year</th>\n",
       "      <th>Date Recorded</th>\n",
       "      <th>Town</th>\n",
       "      <th>Address</th>\n",
       "      <th>Assessed Value</th>\n",
       "      <th>Sale Amount</th>\n",
       "      <th>Sales Ratio</th>\n",
       "      <th>Property Type</th>\n",
       "      <th>Residential Type</th>\n",
       "      <th>Non Use Code</th>\n",
       "      <th>Assessor Remarks</th>\n",
       "      <th>OPM remarks</th>\n",
       "      <th>Location</th>\n",
       "    </tr>\n",
       "  </thead>\n",
       "  <tbody>\n",
       "    <tr>\n",
       "      <th>0</th>\n",
       "      <td>2020348</td>\n",
       "      <td>2020.0</td>\n",
       "      <td>09/13/2021</td>\n",
       "      <td>Ansonia</td>\n",
       "      <td>230 WAKELEE AVE</td>\n",
       "      <td>150500.0</td>\n",
       "      <td>325000.0</td>\n",
       "      <td>0.4630</td>\n",
       "      <td>Commercial</td>\n",
       "      <td>NaN</td>\n",
       "      <td>NaN</td>\n",
       "      <td>NaN</td>\n",
       "      <td>NaN</td>\n",
       "      <td>NaN</td>\n",
       "    </tr>\n",
       "    <tr>\n",
       "      <th>1</th>\n",
       "      <td>20002</td>\n",
       "      <td>2020.0</td>\n",
       "      <td>10/02/2020</td>\n",
       "      <td>Ashford</td>\n",
       "      <td>390 TURNPIKE RD</td>\n",
       "      <td>253000.0</td>\n",
       "      <td>430000.0</td>\n",
       "      <td>0.5883</td>\n",
       "      <td>Residential</td>\n",
       "      <td>Single Family</td>\n",
       "      <td>NaN</td>\n",
       "      <td>NaN</td>\n",
       "      <td>NaN</td>\n",
       "      <td>NaN</td>\n",
       "    </tr>\n",
       "    <tr>\n",
       "      <th>2</th>\n",
       "      <td>200212</td>\n",
       "      <td>2020.0</td>\n",
       "      <td>03/09/2021</td>\n",
       "      <td>Avon</td>\n",
       "      <td>5 CHESTNUT DRIVE</td>\n",
       "      <td>130400.0</td>\n",
       "      <td>179900.0</td>\n",
       "      <td>0.7248</td>\n",
       "      <td>Residential</td>\n",
       "      <td>Condo</td>\n",
       "      <td>NaN</td>\n",
       "      <td>NaN</td>\n",
       "      <td>NaN</td>\n",
       "      <td>NaN</td>\n",
       "    </tr>\n",
       "    <tr>\n",
       "      <th>3</th>\n",
       "      <td>200243</td>\n",
       "      <td>2020.0</td>\n",
       "      <td>04/13/2021</td>\n",
       "      <td>Avon</td>\n",
       "      <td>111 NORTHINGTON DRIVE</td>\n",
       "      <td>619290.0</td>\n",
       "      <td>890000.0</td>\n",
       "      <td>0.6958</td>\n",
       "      <td>Residential</td>\n",
       "      <td>Single Family</td>\n",
       "      <td>NaN</td>\n",
       "      <td>NaN</td>\n",
       "      <td>NaN</td>\n",
       "      <td>NaN</td>\n",
       "    </tr>\n",
       "    <tr>\n",
       "      <th>4</th>\n",
       "      <td>200377</td>\n",
       "      <td>2020.0</td>\n",
       "      <td>07/02/2021</td>\n",
       "      <td>Avon</td>\n",
       "      <td>70 FAR HILLS DRIVE</td>\n",
       "      <td>862330.0</td>\n",
       "      <td>1447500.0</td>\n",
       "      <td>0.5957</td>\n",
       "      <td>Residential</td>\n",
       "      <td>Single Family</td>\n",
       "      <td>NaN</td>\n",
       "      <td>NaN</td>\n",
       "      <td>NaN</td>\n",
       "      <td>NaN</td>\n",
       "    </tr>\n",
       "  </tbody>\n",
       "</table>\n",
       "</div>"
      ],
      "text/plain": [
       "  Serial Number  List Year Date Recorded     Town                Address  \\\n",
       "0       2020348     2020.0    09/13/2021  Ansonia        230 WAKELEE AVE   \n",
       "1         20002     2020.0    10/02/2020  Ashford        390 TURNPIKE RD   \n",
       "2        200212     2020.0    03/09/2021     Avon       5 CHESTNUT DRIVE   \n",
       "3        200243     2020.0    04/13/2021     Avon  111 NORTHINGTON DRIVE   \n",
       "4        200377     2020.0    07/02/2021     Avon     70 FAR HILLS DRIVE   \n",
       "\n",
       "  Assessed Value  Sale Amount  Sales Ratio Property Type Residential Type  \\\n",
       "0       150500.0     325000.0       0.4630    Commercial              NaN   \n",
       "1       253000.0     430000.0       0.5883   Residential    Single Family   \n",
       "2       130400.0     179900.0       0.7248   Residential            Condo   \n",
       "3       619290.0     890000.0       0.6958   Residential    Single Family   \n",
       "4       862330.0    1447500.0       0.5957   Residential    Single Family   \n",
       "\n",
       "  Non Use Code Assessor Remarks OPM remarks Location  \n",
       "0          NaN              NaN         NaN      NaN  \n",
       "1          NaN              NaN         NaN      NaN  \n",
       "2          NaN              NaN         NaN      NaN  \n",
       "3          NaN              NaN         NaN      NaN  \n",
       "4          NaN              NaN         NaN      NaN  "
      ]
     },
     "execution_count": 3,
     "metadata": {},
     "output_type": "execute_result"
    }
   ],
   "source": [
    "# checking the first five rows to explore the dataframe\n",
    "project.head()"
   ]
  },
  {
   "cell_type": "code",
   "execution_count": 4,
   "id": "59f77c9f",
   "metadata": {},
   "outputs": [
    {
     "name": "stdout",
     "output_type": "stream",
     "text": [
      "<class 'pandas.core.frame.DataFrame'>\n",
      "RangeIndex: 693365 entries, 0 to 693364\n",
      "Data columns (total 14 columns):\n",
      " #   Column            Non-Null Count   Dtype  \n",
      "---  ------            --------------   -----  \n",
      " 0   Serial Number     693365 non-null  object \n",
      " 1   List Year         693361 non-null  float64\n",
      " 2   Date Recorded     693359 non-null  object \n",
      " 3   Town              693361 non-null  object \n",
      " 4   Address           693313 non-null  object \n",
      " 5   Assessed Value    693361 non-null  object \n",
      " 6   Sale Amount       693360 non-null  float64\n",
      " 7   Sales Ratio       693360 non-null  float64\n",
      " 8   Property Type     335422 non-null  object \n",
      " 9   Residential Type  329559 non-null  object \n",
      " 10  Non Use Code      189982 non-null  object \n",
      " 11  Assessor Remarks  75344 non-null   object \n",
      " 12  OPM remarks       1989 non-null    object \n",
      " 13  Location          147695 non-null  object \n",
      "dtypes: float64(3), object(11)\n",
      "memory usage: 74.1+ MB\n"
     ]
    }
   ],
   "source": [
    "# checking the data summary to explore the data. \n",
    "project.info()"
   ]
  },
  {
   "cell_type": "code",
   "execution_count": 5,
   "id": "5cf61ec0",
   "metadata": {},
   "outputs": [],
   "source": [
    "# converting date column to date time\n",
    "project[\"Date Recorded\"]= pd.to_datetime(project[\"Date Recorded\"])"
   ]
  },
  {
   "cell_type": "code",
   "execution_count": 6,
   "id": "6ef2beb3",
   "metadata": {},
   "outputs": [],
   "source": [
    "# extracting Sale Year and Sale Month Features\n",
    "project[\"Sale Year\"] = project['Date Recorded'].dt.year\n",
    "project[\"Sale Month\"] = project['Date Recorded'].dt.month"
   ]
  },
  {
   "cell_type": "code",
   "execution_count": 7,
   "id": "00c07fb9",
   "metadata": {},
   "outputs": [],
   "source": [
    "# dropping columns(Serial Number, Date Recorded, List Year,Sales Ratio, Non Use Code, Assessor Remarks,Opm Remarks, Location)\n",
    "project.drop([\"Serial Number\",\"Date Recorded\",\"List Year\",\"Sales Ratio\",\"Non Use Code\",\"Assessor Remarks\",\"OPM remarks\",\"Location\"], axis=1, inplace=True)"
   ]
  },
  {
   "cell_type": "code",
   "execution_count": 8,
   "id": "6493021e",
   "metadata": {},
   "outputs": [],
   "source": [
    "# Extracting the 2021 data frame\n",
    "data2021=project[project['Sale Year']==2021 ]"
   ]
  },
  {
   "cell_type": "code",
   "execution_count": 9,
   "id": "7bd135fd",
   "metadata": {},
   "outputs": [],
   "source": [
    "# Extracting the 2020 data from the data frame\n",
    "data2020=project[project['Sale Year']==2020 ]"
   ]
  },
  {
   "cell_type": "code",
   "execution_count": 10,
   "id": "69e14c5d",
   "metadata": {},
   "outputs": [],
   "source": [
    "# Extracting the month of october to december from 2020 data\n",
    "dataocttodec2020= data2020[data2020['Sale Month']>9]"
   ]
  },
  {
   "cell_type": "code",
   "execution_count": 11,
   "id": "8f50ee79",
   "metadata": {},
   "outputs": [
    {
     "data": {
      "text/html": [
       "<div>\n",
       "<style scoped>\n",
       "    .dataframe tbody tr th:only-of-type {\n",
       "        vertical-align: middle;\n",
       "    }\n",
       "\n",
       "    .dataframe tbody tr th {\n",
       "        vertical-align: top;\n",
       "    }\n",
       "\n",
       "    .dataframe thead th {\n",
       "        text-align: right;\n",
       "    }\n",
       "</style>\n",
       "<table border=\"1\" class=\"dataframe\">\n",
       "  <thead>\n",
       "    <tr style=\"text-align: right;\">\n",
       "      <th></th>\n",
       "      <th>Town</th>\n",
       "      <th>Address</th>\n",
       "      <th>Assessed Value</th>\n",
       "      <th>Sale Amount</th>\n",
       "      <th>Property Type</th>\n",
       "      <th>Residential Type</th>\n",
       "      <th>Sale Year</th>\n",
       "      <th>Sale Month</th>\n",
       "    </tr>\n",
       "  </thead>\n",
       "  <tbody>\n",
       "    <tr>\n",
       "      <th>1</th>\n",
       "      <td>Ashford</td>\n",
       "      <td>390 TURNPIKE RD</td>\n",
       "      <td>253000.0</td>\n",
       "      <td>430000.0</td>\n",
       "      <td>Residential</td>\n",
       "      <td>Single Family</td>\n",
       "      <td>2020.0</td>\n",
       "      <td>10.0</td>\n",
       "    </tr>\n",
       "    <tr>\n",
       "      <th>5</th>\n",
       "      <td>Avon</td>\n",
       "      <td>57 FAR HILLS DRIVE</td>\n",
       "      <td>847520.0</td>\n",
       "      <td>1250000.0</td>\n",
       "      <td>Residential</td>\n",
       "      <td>Single Family</td>\n",
       "      <td>2020.0</td>\n",
       "      <td>12.0</td>\n",
       "    </tr>\n",
       "    <tr>\n",
       "      <th>9</th>\n",
       "      <td>Bethel</td>\n",
       "      <td>16 DEEPWOOD DRIVE</td>\n",
       "      <td>171360.0</td>\n",
       "      <td>335000.0</td>\n",
       "      <td>Residential</td>\n",
       "      <td>Single Family</td>\n",
       "      <td>2020.0</td>\n",
       "      <td>12.0</td>\n",
       "    </tr>\n",
       "    <tr>\n",
       "      <th>15</th>\n",
       "      <td>Bristol</td>\n",
       "      <td>9 LESLIE COURT</td>\n",
       "      <td>94920.0</td>\n",
       "      <td>155000.0</td>\n",
       "      <td>Residential</td>\n",
       "      <td>Single Family</td>\n",
       "      <td>2020.0</td>\n",
       "      <td>10.0</td>\n",
       "    </tr>\n",
       "    <tr>\n",
       "      <th>16</th>\n",
       "      <td>Bristol</td>\n",
       "      <td>391 TIFFANY LA</td>\n",
       "      <td>173740.0</td>\n",
       "      <td>299000.0</td>\n",
       "      <td>Residential</td>\n",
       "      <td>Single Family</td>\n",
       "      <td>2020.0</td>\n",
       "      <td>12.0</td>\n",
       "    </tr>\n",
       "  </tbody>\n",
       "</table>\n",
       "</div>"
      ],
      "text/plain": [
       "       Town             Address Assessed Value  Sale Amount Property Type  \\\n",
       "1   Ashford     390 TURNPIKE RD       253000.0     430000.0   Residential   \n",
       "5      Avon  57 FAR HILLS DRIVE       847520.0    1250000.0   Residential   \n",
       "9    Bethel   16 DEEPWOOD DRIVE       171360.0     335000.0   Residential   \n",
       "15  Bristol      9 LESLIE COURT        94920.0     155000.0   Residential   \n",
       "16  Bristol      391 TIFFANY LA       173740.0     299000.0   Residential   \n",
       "\n",
       "   Residential Type  Sale Year  Sale Month  \n",
       "1     Single Family     2020.0        10.0  \n",
       "5     Single Family     2020.0        12.0  \n",
       "9     Single Family     2020.0        12.0  \n",
       "15    Single Family     2020.0        10.0  \n",
       "16    Single Family     2020.0        12.0  "
      ]
     },
     "execution_count": 11,
     "metadata": {},
     "output_type": "execute_result"
    }
   ],
   "source": [
    "\n",
    "dataocttodec2020.head()"
   ]
  },
  {
   "cell_type": "code",
   "execution_count": 12,
   "id": "d83e5327",
   "metadata": {},
   "outputs": [
    {
     "data": {
      "text/html": [
       "<div>\n",
       "<style scoped>\n",
       "    .dataframe tbody tr th:only-of-type {\n",
       "        vertical-align: middle;\n",
       "    }\n",
       "\n",
       "    .dataframe tbody tr th {\n",
       "        vertical-align: top;\n",
       "    }\n",
       "\n",
       "    .dataframe thead th {\n",
       "        text-align: right;\n",
       "    }\n",
       "</style>\n",
       "<table border=\"1\" class=\"dataframe\">\n",
       "  <thead>\n",
       "    <tr style=\"text-align: right;\">\n",
       "      <th></th>\n",
       "      <th>Town</th>\n",
       "      <th>Address</th>\n",
       "      <th>Assessed Value</th>\n",
       "      <th>Sale Amount</th>\n",
       "      <th>Property Type</th>\n",
       "      <th>Residential Type</th>\n",
       "      <th>Sale Year</th>\n",
       "      <th>Sale Month</th>\n",
       "    </tr>\n",
       "  </thead>\n",
       "  <tbody>\n",
       "    <tr>\n",
       "      <th>0</th>\n",
       "      <td>Ansonia</td>\n",
       "      <td>230 WAKELEE AVE</td>\n",
       "      <td>150500.0</td>\n",
       "      <td>325000.0</td>\n",
       "      <td>Commercial</td>\n",
       "      <td>NaN</td>\n",
       "      <td>2021.0</td>\n",
       "      <td>9.0</td>\n",
       "    </tr>\n",
       "    <tr>\n",
       "      <th>2</th>\n",
       "      <td>Avon</td>\n",
       "      <td>5 CHESTNUT DRIVE</td>\n",
       "      <td>130400.0</td>\n",
       "      <td>179900.0</td>\n",
       "      <td>Residential</td>\n",
       "      <td>Condo</td>\n",
       "      <td>2021.0</td>\n",
       "      <td>3.0</td>\n",
       "    </tr>\n",
       "    <tr>\n",
       "      <th>3</th>\n",
       "      <td>Avon</td>\n",
       "      <td>111 NORTHINGTON DRIVE</td>\n",
       "      <td>619290.0</td>\n",
       "      <td>890000.0</td>\n",
       "      <td>Residential</td>\n",
       "      <td>Single Family</td>\n",
       "      <td>2021.0</td>\n",
       "      <td>4.0</td>\n",
       "    </tr>\n",
       "    <tr>\n",
       "      <th>4</th>\n",
       "      <td>Avon</td>\n",
       "      <td>70 FAR HILLS DRIVE</td>\n",
       "      <td>862330.0</td>\n",
       "      <td>1447500.0</td>\n",
       "      <td>Residential</td>\n",
       "      <td>Single Family</td>\n",
       "      <td>2021.0</td>\n",
       "      <td>7.0</td>\n",
       "    </tr>\n",
       "    <tr>\n",
       "      <th>6</th>\n",
       "      <td>Berlin</td>\n",
       "      <td>1539 FARMINGTON AVE</td>\n",
       "      <td>234200.0</td>\n",
       "      <td>130000.0</td>\n",
       "      <td>Residential</td>\n",
       "      <td>Two Family</td>\n",
       "      <td>2021.0</td>\n",
       "      <td>3.0</td>\n",
       "    </tr>\n",
       "  </tbody>\n",
       "</table>\n",
       "</div>"
      ],
      "text/plain": [
       "      Town                Address Assessed Value  Sale Amount Property Type  \\\n",
       "0  Ansonia        230 WAKELEE AVE       150500.0     325000.0    Commercial   \n",
       "2     Avon       5 CHESTNUT DRIVE       130400.0     179900.0   Residential   \n",
       "3     Avon  111 NORTHINGTON DRIVE       619290.0     890000.0   Residential   \n",
       "4     Avon     70 FAR HILLS DRIVE       862330.0    1447500.0   Residential   \n",
       "6   Berlin    1539 FARMINGTON AVE       234200.0     130000.0   Residential   \n",
       "\n",
       "  Residential Type  Sale Year  Sale Month  \n",
       "0              NaN     2021.0         9.0  \n",
       "2            Condo     2021.0         3.0  \n",
       "3    Single Family     2021.0         4.0  \n",
       "4    Single Family     2021.0         7.0  \n",
       "6       Two Family     2021.0         3.0  "
      ]
     },
     "execution_count": 12,
     "metadata": {},
     "output_type": "execute_result"
    }
   ],
   "source": [
    "data2021.head()"
   ]
  },
  {
   "cell_type": "code",
   "execution_count": 13,
   "id": "d61b1d2f",
   "metadata": {},
   "outputs": [],
   "source": [
    "# joining data from (october to december 2020) to 2021 to obtain data for financial year 2021, since financial year 2021 starts from 1st october 2020\n",
    "dataFY2021=pd.concat([dataocttodec2020,data2021], axis=0)"
   ]
  },
  {
   "cell_type": "code",
   "execution_count": 14,
   "id": "27d90800",
   "metadata": {},
   "outputs": [
    {
     "data": {
      "text/html": [
       "<div>\n",
       "<style scoped>\n",
       "    .dataframe tbody tr th:only-of-type {\n",
       "        vertical-align: middle;\n",
       "    }\n",
       "\n",
       "    .dataframe tbody tr th {\n",
       "        vertical-align: top;\n",
       "    }\n",
       "\n",
       "    .dataframe thead th {\n",
       "        text-align: right;\n",
       "    }\n",
       "</style>\n",
       "<table border=\"1\" class=\"dataframe\">\n",
       "  <thead>\n",
       "    <tr style=\"text-align: right;\">\n",
       "      <th></th>\n",
       "      <th>Town</th>\n",
       "      <th>Address</th>\n",
       "      <th>Assessed Value</th>\n",
       "      <th>Sale Amount</th>\n",
       "      <th>Property Type</th>\n",
       "      <th>Residential Type</th>\n",
       "      <th>Sale Year</th>\n",
       "      <th>Sale Month</th>\n",
       "    </tr>\n",
       "  </thead>\n",
       "  <tbody>\n",
       "    <tr>\n",
       "      <th>1</th>\n",
       "      <td>Ashford</td>\n",
       "      <td>390 TURNPIKE RD</td>\n",
       "      <td>253000.0</td>\n",
       "      <td>430000.0</td>\n",
       "      <td>Residential</td>\n",
       "      <td>Single Family</td>\n",
       "      <td>2020.0</td>\n",
       "      <td>10.0</td>\n",
       "    </tr>\n",
       "    <tr>\n",
       "      <th>5</th>\n",
       "      <td>Avon</td>\n",
       "      <td>57 FAR HILLS DRIVE</td>\n",
       "      <td>847520.0</td>\n",
       "      <td>1250000.0</td>\n",
       "      <td>Residential</td>\n",
       "      <td>Single Family</td>\n",
       "      <td>2020.0</td>\n",
       "      <td>12.0</td>\n",
       "    </tr>\n",
       "    <tr>\n",
       "      <th>9</th>\n",
       "      <td>Bethel</td>\n",
       "      <td>16 DEEPWOOD DRIVE</td>\n",
       "      <td>171360.0</td>\n",
       "      <td>335000.0</td>\n",
       "      <td>Residential</td>\n",
       "      <td>Single Family</td>\n",
       "      <td>2020.0</td>\n",
       "      <td>12.0</td>\n",
       "    </tr>\n",
       "    <tr>\n",
       "      <th>15</th>\n",
       "      <td>Bristol</td>\n",
       "      <td>9 LESLIE COURT</td>\n",
       "      <td>94920.0</td>\n",
       "      <td>155000.0</td>\n",
       "      <td>Residential</td>\n",
       "      <td>Single Family</td>\n",
       "      <td>2020.0</td>\n",
       "      <td>10.0</td>\n",
       "    </tr>\n",
       "    <tr>\n",
       "      <th>16</th>\n",
       "      <td>Bristol</td>\n",
       "      <td>391 TIFFANY LA</td>\n",
       "      <td>173740.0</td>\n",
       "      <td>299000.0</td>\n",
       "      <td>Residential</td>\n",
       "      <td>Single Family</td>\n",
       "      <td>2020.0</td>\n",
       "      <td>12.0</td>\n",
       "    </tr>\n",
       "    <tr>\n",
       "      <th>...</th>\n",
       "      <td>...</td>\n",
       "      <td>...</td>\n",
       "      <td>...</td>\n",
       "      <td>...</td>\n",
       "      <td>...</td>\n",
       "      <td>...</td>\n",
       "      <td>...</td>\n",
       "      <td>...</td>\n",
       "    </tr>\n",
       "    <tr>\n",
       "      <th>66823</th>\n",
       "      <td>Trumbull</td>\n",
       "      <td>56 GOLDEN HILL RD</td>\n",
       "      <td>315490.0</td>\n",
       "      <td>520000.0</td>\n",
       "      <td>Residential</td>\n",
       "      <td>Single Family</td>\n",
       "      <td>2021.0</td>\n",
       "      <td>2.0</td>\n",
       "    </tr>\n",
       "    <tr>\n",
       "      <th>66824</th>\n",
       "      <td>Vernon</td>\n",
       "      <td>350 TALCOTTVILLE RD</td>\n",
       "      <td>1820300.0</td>\n",
       "      <td>7986111.0</td>\n",
       "      <td>Commercial</td>\n",
       "      <td>NaN</td>\n",
       "      <td>2021.0</td>\n",
       "      <td>7.0</td>\n",
       "    </tr>\n",
       "    <tr>\n",
       "      <th>66825</th>\n",
       "      <td>Windsor</td>\n",
       "      <td>40 LAST LEAF CIR</td>\n",
       "      <td>134260.0</td>\n",
       "      <td>252000.0</td>\n",
       "      <td>Residential</td>\n",
       "      <td>Condo</td>\n",
       "      <td>2021.0</td>\n",
       "      <td>7.0</td>\n",
       "    </tr>\n",
       "    <tr>\n",
       "      <th>66830</th>\n",
       "      <td>Torrington</td>\n",
       "      <td>21 PROSPECT ST UNIT 3</td>\n",
       "      <td>40190.0</td>\n",
       "      <td>52500.0</td>\n",
       "      <td>Residential</td>\n",
       "      <td>Condo</td>\n",
       "      <td>2021.0</td>\n",
       "      <td>4.0</td>\n",
       "    </tr>\n",
       "    <tr>\n",
       "      <th>66831</th>\n",
       "      <td>Waterbury</td>\n",
       "      <td>179 TRACY AVE</td>\n",
       "      <td>63180.0</td>\n",
       "      <td>107500.0</td>\n",
       "      <td>Residential</td>\n",
       "      <td>Single Family</td>\n",
       "      <td>2021.0</td>\n",
       "      <td>5.0</td>\n",
       "    </tr>\n",
       "  </tbody>\n",
       "</table>\n",
       "<p>66592 rows × 8 columns</p>\n",
       "</div>"
      ],
      "text/plain": [
       "             Town                Address Assessed Value  Sale Amount  \\\n",
       "1         Ashford        390 TURNPIKE RD       253000.0     430000.0   \n",
       "5            Avon     57 FAR HILLS DRIVE       847520.0    1250000.0   \n",
       "9          Bethel      16 DEEPWOOD DRIVE       171360.0     335000.0   \n",
       "15        Bristol         9 LESLIE COURT        94920.0     155000.0   \n",
       "16        Bristol         391 TIFFANY LA       173740.0     299000.0   \n",
       "...           ...                    ...            ...          ...   \n",
       "66823    Trumbull      56 GOLDEN HILL RD       315490.0     520000.0   \n",
       "66824      Vernon    350 TALCOTTVILLE RD      1820300.0    7986111.0   \n",
       "66825     Windsor       40 LAST LEAF CIR       134260.0     252000.0   \n",
       "66830  Torrington  21 PROSPECT ST UNIT 3        40190.0      52500.0   \n",
       "66831   Waterbury          179 TRACY AVE        63180.0     107500.0   \n",
       "\n",
       "      Property Type Residential Type  Sale Year  Sale Month  \n",
       "1       Residential    Single Family     2020.0        10.0  \n",
       "5       Residential    Single Family     2020.0        12.0  \n",
       "9       Residential    Single Family     2020.0        12.0  \n",
       "15      Residential    Single Family     2020.0        10.0  \n",
       "16      Residential    Single Family     2020.0        12.0  \n",
       "...             ...              ...        ...         ...  \n",
       "66823   Residential    Single Family     2021.0         2.0  \n",
       "66824    Commercial              NaN     2021.0         7.0  \n",
       "66825   Residential            Condo     2021.0         7.0  \n",
       "66830   Residential            Condo     2021.0         4.0  \n",
       "66831   Residential    Single Family     2021.0         5.0  \n",
       "\n",
       "[66592 rows x 8 columns]"
      ]
     },
     "execution_count": 14,
     "metadata": {},
     "output_type": "execute_result"
    }
   ],
   "source": [
    "dataFY2021"
   ]
  },
  {
   "cell_type": "code",
   "execution_count": 15,
   "id": "c20a73c3",
   "metadata": {},
   "outputs": [
    {
     "data": {
      "text/plain": [
       "6.0     6623\n",
       "7.0     6441\n",
       "8.0     6225\n",
       "10.0    6219\n",
       "12.0    6133\n",
       "11.0    5799\n",
       "9.0     5683\n",
       "5.0     5366\n",
       "4.0     5004\n",
       "3.0     4999\n",
       "1.0     4462\n",
       "2.0     3638\n",
       "Name: Sale Month, dtype: int64"
      ]
     },
     "execution_count": 15,
     "metadata": {},
     "output_type": "execute_result"
    }
   ],
   "source": [
    "# exploring the sale month column to ensure that all the 12 months are present \n",
    "dataFY2021['Sale Month'].value_counts()"
   ]
  },
  {
   "cell_type": "code",
   "execution_count": 16,
   "id": "8c3bdce7",
   "metadata": {},
   "outputs": [],
   "source": [
    "# saving the financial year 2021 data frame into a csv file\n",
    "dataFY2021.to_csv('real_estates_FY2021.csv', index=False)"
   ]
  },
  {
   "cell_type": "code",
   "execution_count": 17,
   "id": "1b6a89b8",
   "metadata": {},
   "outputs": [],
   "source": [
    "# reading the saves csv file\n",
    "data=pd.read_csv(\"real_estates_FY2021.csv\")"
   ]
  },
  {
   "cell_type": "code",
   "execution_count": 18,
   "id": "88c64753",
   "metadata": {},
   "outputs": [
    {
     "name": "stdout",
     "output_type": "stream",
     "text": [
      "<class 'pandas.core.frame.DataFrame'>\n",
      "RangeIndex: 66592 entries, 0 to 66591\n",
      "Data columns (total 8 columns):\n",
      " #   Column            Non-Null Count  Dtype  \n",
      "---  ------            --------------  -----  \n",
      " 0   Town              66592 non-null  object \n",
      " 1   Address           66592 non-null  object \n",
      " 2   Assessed Value    66592 non-null  float64\n",
      " 3   Sale Amount       66592 non-null  float64\n",
      " 4   Property Type     66591 non-null  object \n",
      " 5   Residential Type  60728 non-null  object \n",
      " 6   Sale Year         66592 non-null  float64\n",
      " 7   Sale Month        66592 non-null  float64\n",
      "dtypes: float64(4), object(4)\n",
      "memory usage: 4.1+ MB\n"
     ]
    }
   ],
   "source": [
    "# exploring the saved dataframe\n",
    "data.info()"
   ]
  },
  {
   "cell_type": "code",
   "execution_count": 19,
   "id": "6d228b14",
   "metadata": {},
   "outputs": [
    {
     "data": {
      "text/plain": [
       "Town                   0\n",
       "Address                0\n",
       "Assessed Value         0\n",
       "Sale Amount            0\n",
       "Property Type          1\n",
       "Residential Type    5864\n",
       "Sale Year              0\n",
       "Sale Month             0\n",
       "dtype: int64"
      ]
     },
     "execution_count": 19,
     "metadata": {},
     "output_type": "execute_result"
    }
   ],
   "source": [
    "# checking for null values\n",
    "data.isnull().sum()"
   ]
  },
  {
   "cell_type": "code",
   "execution_count": 20,
   "id": "28258000",
   "metadata": {},
   "outputs": [],
   "source": [
    " # Drop null values in the Property Type column\n",
    "data.dropna(subset=[\"Property Type\"], inplace=True)"
   ]
  },
  {
   "cell_type": "code",
   "execution_count": 21,
   "id": "1f0e385c",
   "metadata": {},
   "outputs": [
    {
     "data": {
      "text/plain": [
       "Town                   0\n",
       "Address                0\n",
       "Assessed Value         0\n",
       "Sale Amount            0\n",
       "Property Type          0\n",
       "Residential Type    5863\n",
       "Sale Year              0\n",
       "Sale Month             0\n",
       "dtype: int64"
      ]
     },
     "execution_count": 21,
     "metadata": {},
     "output_type": "execute_result"
    }
   ],
   "source": [
    "data.isna().sum()"
   ]
  },
  {
   "cell_type": "code",
   "execution_count": 22,
   "id": "0ff25a99",
   "metadata": {},
   "outputs": [],
   "source": [
    "# filling in null values in the Residential Type Feature with a constant known as \"Missing\"\n",
    "data['Residential Type']=data['Residential Type'].fillna('Missing')"
   ]
  },
  {
   "cell_type": "code",
   "execution_count": 23,
   "id": "3298e3b8",
   "metadata": {},
   "outputs": [
    {
     "data": {
      "text/plain": [
       "Town                0\n",
       "Address             0\n",
       "Assessed Value      0\n",
       "Sale Amount         0\n",
       "Property Type       0\n",
       "Residential Type    0\n",
       "Sale Year           0\n",
       "Sale Month          0\n",
       "dtype: int64"
      ]
     },
     "execution_count": 23,
     "metadata": {},
     "output_type": "execute_result"
    }
   ],
   "source": [
    "data.isna().sum()"
   ]
  },
  {
   "cell_type": "code",
   "execution_count": 24,
   "id": "cd5fd400",
   "metadata": {},
   "outputs": [
    {
     "data": {
      "text/html": [
       "<div>\n",
       "<style scoped>\n",
       "    .dataframe tbody tr th:only-of-type {\n",
       "        vertical-align: middle;\n",
       "    }\n",
       "\n",
       "    .dataframe tbody tr th {\n",
       "        vertical-align: top;\n",
       "    }\n",
       "\n",
       "    .dataframe thead th {\n",
       "        text-align: right;\n",
       "    }\n",
       "</style>\n",
       "<table border=\"1\" class=\"dataframe\">\n",
       "  <thead>\n",
       "    <tr style=\"text-align: right;\">\n",
       "      <th></th>\n",
       "      <th>Town</th>\n",
       "      <th>Address</th>\n",
       "      <th>Assessed Value</th>\n",
       "      <th>Sale Amount</th>\n",
       "      <th>Property Type</th>\n",
       "      <th>Residential Type</th>\n",
       "      <th>Sale Year</th>\n",
       "      <th>Sale Month</th>\n",
       "    </tr>\n",
       "  </thead>\n",
       "  <tbody>\n",
       "    <tr>\n",
       "      <th>0</th>\n",
       "      <td>Ashford</td>\n",
       "      <td>390 TURNPIKE RD</td>\n",
       "      <td>253000.0</td>\n",
       "      <td>430000.0</td>\n",
       "      <td>Residential</td>\n",
       "      <td>Single Family</td>\n",
       "      <td>2020.0</td>\n",
       "      <td>10.0</td>\n",
       "    </tr>\n",
       "    <tr>\n",
       "      <th>1</th>\n",
       "      <td>Avon</td>\n",
       "      <td>57 FAR HILLS DRIVE</td>\n",
       "      <td>847520.0</td>\n",
       "      <td>1250000.0</td>\n",
       "      <td>Residential</td>\n",
       "      <td>Single Family</td>\n",
       "      <td>2020.0</td>\n",
       "      <td>12.0</td>\n",
       "    </tr>\n",
       "    <tr>\n",
       "      <th>2</th>\n",
       "      <td>Bethel</td>\n",
       "      <td>16 DEEPWOOD DRIVE</td>\n",
       "      <td>171360.0</td>\n",
       "      <td>335000.0</td>\n",
       "      <td>Residential</td>\n",
       "      <td>Single Family</td>\n",
       "      <td>2020.0</td>\n",
       "      <td>12.0</td>\n",
       "    </tr>\n",
       "    <tr>\n",
       "      <th>3</th>\n",
       "      <td>Bristol</td>\n",
       "      <td>9 LESLIE COURT</td>\n",
       "      <td>94920.0</td>\n",
       "      <td>155000.0</td>\n",
       "      <td>Residential</td>\n",
       "      <td>Single Family</td>\n",
       "      <td>2020.0</td>\n",
       "      <td>10.0</td>\n",
       "    </tr>\n",
       "    <tr>\n",
       "      <th>4</th>\n",
       "      <td>Bristol</td>\n",
       "      <td>391 TIFFANY LA</td>\n",
       "      <td>173740.0</td>\n",
       "      <td>299000.0</td>\n",
       "      <td>Residential</td>\n",
       "      <td>Single Family</td>\n",
       "      <td>2020.0</td>\n",
       "      <td>12.0</td>\n",
       "    </tr>\n",
       "  </tbody>\n",
       "</table>\n",
       "</div>"
      ],
      "text/plain": [
       "      Town             Address  Assessed Value  Sale Amount Property Type  \\\n",
       "0  Ashford     390 TURNPIKE RD        253000.0     430000.0   Residential   \n",
       "1     Avon  57 FAR HILLS DRIVE        847520.0    1250000.0   Residential   \n",
       "2   Bethel   16 DEEPWOOD DRIVE        171360.0     335000.0   Residential   \n",
       "3  Bristol      9 LESLIE COURT         94920.0     155000.0   Residential   \n",
       "4  Bristol      391 TIFFANY LA        173740.0     299000.0   Residential   \n",
       "\n",
       "  Residential Type  Sale Year  Sale Month  \n",
       "0    Single Family     2020.0        10.0  \n",
       "1    Single Family     2020.0        12.0  \n",
       "2    Single Family     2020.0        12.0  \n",
       "3    Single Family     2020.0        10.0  \n",
       "4    Single Family     2020.0        12.0  "
      ]
     },
     "execution_count": 24,
     "metadata": {},
     "output_type": "execute_result"
    }
   ],
   "source": [
    "data.head()"
   ]
  },
  {
   "cell_type": "code",
   "execution_count": 25,
   "id": "a01ebd23",
   "metadata": {},
   "outputs": [],
   "source": [
    "# dropping the sale year column\n",
    "data.drop(\"Sale Year\", axis=1, inplace=True)"
   ]
  },
  {
   "cell_type": "code",
   "execution_count": 26,
   "id": "54e2c3b6",
   "metadata": {},
   "outputs": [
    {
     "data": {
      "text/html": [
       "<div>\n",
       "<style scoped>\n",
       "    .dataframe tbody tr th:only-of-type {\n",
       "        vertical-align: middle;\n",
       "    }\n",
       "\n",
       "    .dataframe tbody tr th {\n",
       "        vertical-align: top;\n",
       "    }\n",
       "\n",
       "    .dataframe thead th {\n",
       "        text-align: right;\n",
       "    }\n",
       "</style>\n",
       "<table border=\"1\" class=\"dataframe\">\n",
       "  <thead>\n",
       "    <tr style=\"text-align: right;\">\n",
       "      <th></th>\n",
       "      <th>Town</th>\n",
       "      <th>Address</th>\n",
       "      <th>Assessed Value</th>\n",
       "      <th>Sale Amount</th>\n",
       "      <th>Property Type</th>\n",
       "      <th>Residential Type</th>\n",
       "      <th>Sale Month</th>\n",
       "    </tr>\n",
       "  </thead>\n",
       "  <tbody>\n",
       "    <tr>\n",
       "      <th>0</th>\n",
       "      <td>Ashford</td>\n",
       "      <td>390 TURNPIKE RD</td>\n",
       "      <td>253000.0</td>\n",
       "      <td>430000.0</td>\n",
       "      <td>Residential</td>\n",
       "      <td>Single Family</td>\n",
       "      <td>10.0</td>\n",
       "    </tr>\n",
       "    <tr>\n",
       "      <th>1</th>\n",
       "      <td>Avon</td>\n",
       "      <td>57 FAR HILLS DRIVE</td>\n",
       "      <td>847520.0</td>\n",
       "      <td>1250000.0</td>\n",
       "      <td>Residential</td>\n",
       "      <td>Single Family</td>\n",
       "      <td>12.0</td>\n",
       "    </tr>\n",
       "  </tbody>\n",
       "</table>\n",
       "</div>"
      ],
      "text/plain": [
       "      Town             Address  Assessed Value  Sale Amount Property Type  \\\n",
       "0  Ashford     390 TURNPIKE RD        253000.0     430000.0   Residential   \n",
       "1     Avon  57 FAR HILLS DRIVE        847520.0    1250000.0   Residential   \n",
       "\n",
       "  Residential Type  Sale Month  \n",
       "0    Single Family        10.0  \n",
       "1    Single Family        12.0  "
      ]
     },
     "execution_count": 26,
     "metadata": {},
     "output_type": "execute_result"
    }
   ],
   "source": [
    "data.head(2)"
   ]
  },
  {
   "cell_type": "code",
   "execution_count": 27,
   "id": "ffae535b",
   "metadata": {},
   "outputs": [
    {
     "data": {
      "text/plain": [
       "2000.0"
      ]
     },
     "execution_count": 27,
     "metadata": {},
     "output_type": "execute_result"
    }
   ],
   "source": [
    "# checking for the minimun Sale Amount\n",
    "data['Sale Amount'].min()"
   ]
  },
  {
   "cell_type": "code",
   "execution_count": 28,
   "id": "246a67af",
   "metadata": {},
   "outputs": [
    {
     "data": {
      "text/plain": [
       "0.0          172\n",
       "18200.0       65\n",
       "1100.0        55\n",
       "191660.0      37\n",
       "46900.0       33\n",
       "            ... \n",
       "157130.0       1\n",
       "310600.0       1\n",
       "1889020.0      1\n",
       "3621520.0      1\n",
       "40190.0        1\n",
       "Name: Assessed Value, Length: 28884, dtype: int64"
      ]
     },
     "execution_count": 28,
     "metadata": {},
     "output_type": "execute_result"
    }
   ],
   "source": [
    "data[\"Assessed Value\"].value_counts()"
   ]
  },
  {
   "cell_type": "code",
   "execution_count": 29,
   "id": "5cb9be28",
   "metadata": {},
   "outputs": [
    {
     "data": {
      "text/plain": [
       "Int64Index([  316,   801,   853,  1069,  1264,  1875,  2002,  2370,  2462,\n",
       "             3107,\n",
       "            ...\n",
       "            64520, 64623, 65005, 65020, 65145, 65387, 65586, 65966, 66036,\n",
       "            66269],\n",
       "           dtype='int64', length=172)"
      ]
     },
     "execution_count": 29,
     "metadata": {},
     "output_type": "execute_result"
    }
   ],
   "source": [
    "# checking for rows with Assessed Values equated to zero\n",
    "index_names = data[data[\"Assessed Value\"]==0].index\n",
    "index_names"
   ]
  },
  {
   "cell_type": "code",
   "execution_count": 30,
   "id": "0fd4803e",
   "metadata": {},
   "outputs": [],
   "source": [
    "# dropping rows with assessed values equating to 0\n",
    "data.drop(index_names, inplace=True )\n"
   ]
  },
  {
   "cell_type": "code",
   "execution_count": 31,
   "id": "02a1f702",
   "metadata": {},
   "outputs": [
    {
     "data": {
      "text/plain": [
       "1.0"
      ]
     },
     "execution_count": 31,
     "metadata": {},
     "output_type": "execute_result"
    }
   ],
   "source": [
    "data[\"Assessed Value\"].min()"
   ]
  },
  {
   "cell_type": "code",
   "execution_count": 32,
   "id": "5c9aecd9",
   "metadata": {},
   "outputs": [],
   "source": [
    "# dealing with outliers\n",
    "# define a function called boxplot\n",
    "\n",
    "def plot_boxplot(df,ft):\n",
    "    df.boxplot(column=[ft])\n",
    "    plt.grid(False)\n",
    "    plt.show"
   ]
  },
  {
   "cell_type": "code",
   "execution_count": 33,
   "id": "c45ac2e3",
   "metadata": {},
   "outputs": [
    {
     "data": {
      "image/png": "[encoded data removed]",
      "text/plain": [
       "<Figure size 432x288 with 1 Axes>"
      ]
     },
     "metadata": {
      "needs_background": "light"
     },
     "output_type": "display_data"
    }
   ],
   "source": [
    "plot_boxplot(data, \"Assessed Value\")"
   ]
  },
  {
   "cell_type": "code",
   "execution_count": 34,
   "id": "5bc2d143",
   "metadata": {},
   "outputs": [
    {
     "data": {
      "image/png": "[encoded data removed]",
      "text/plain": [
       "<Figure size 432x288 with 1 Axes>"
      ]
     },
     "metadata": {
      "needs_background": "light"
     },
     "output_type": "display_data"
    }
   ],
   "source": [
    "plot_boxplot(data, \"Sale Amount\")"
   ]
  },
  {
   "cell_type": "markdown",
   "id": "3f729fd4",
   "metadata": {},
   "source": [
    "### Removing Outliers"
   ]
  },
  {
   "cell_type": "code",
   "execution_count": 35,
   "id": "8f5f8a2e",
   "metadata": {},
   "outputs": [],
   "source": [
    "# defining a function called outliers which returns a list of indices of outliers\n",
    "def outliers(df, ft):\n",
    "    Q1= df[ft].quantile(0.25)\n",
    "    Q3= df[ft].quantile(0.75)\n",
    "    IQR= Q3 - Q1\n",
    "    \n",
    "    lower_bound = Q1-1.5*IQR\n",
    "    upper_bound = Q3+1.5*IQR\n",
    "    \n",
    "    # create a list to store the indeces of the outliers\n",
    "    \n",
    "    ls = df.index[(df[ft]<lower_bound) | (df[ft]> upper_bound)]\n",
    "    \n",
    "    return ls"
   ]
  },
  {
   "cell_type": "code",
   "execution_count": 36,
   "id": "394100e5",
   "metadata": {},
   "outputs": [],
   "source": [
    "# creat an empty list to store the output indices from multiple columns\n",
    "\n",
    "index_list = []\n",
    "for feature in ['Assessed Value', 'Sale Amount']:\n",
    "    index_list.extend(outliers(data,feature))"
   ]
  },
  {
   "cell_type": "code",
   "execution_count": 37,
   "id": "7c88d4e2",
   "metadata": {},
   "outputs": [
    {
     "data": {
      "text/plain": [
       "[1,\n",
       " 18,\n",
       " 41,\n",
       " 43,\n",
       " 69,\n",
       " 87,\n",
       " 95,\n",
       " 96,\n",
       " 97,\n",
       " 108,\n",
       " 127,\n",
       " 134,\n",
       " 142,\n",
       " 147,\n",
       " 150,\n",
       " 164,\n",
       " 167,\n",
       " 169,\n",
       " 191,\n",
       " 193,\n",
       " 194,\n",
       " 225,\n",
       " 235,\n",
       " 239,\n",
       " 254,\n",
       " 259,\n",
       " 264,\n",
       " 265,\n",
       " 272,\n",
       " 299,\n",
       " 308,\n",
       " 309,\n",
       " 333,\n",
       " 339,\n",
       " 340,\n",
       " 361,\n",
       " 366,\n",
       " 370,\n",
       " 375,\n",
       " 376,\n",
       " 377,\n",
       " 391,\n",
       " 392,\n",
       " 399,\n",
       " 401,\n",
       " 418,\n",
       " 420,\n",
       " 435,\n",
       " 437,\n",
       " 442,\n",
       " 452,\n",
       " 455,\n",
       " 462,\n",
       " 469,\n",
       " 483,\n",
       " 485,\n",
       " 488,\n",
       " 490,\n",
       " 508,\n",
       " 512,\n",
       " 516,\n",
       " 517,\n",
       " 519,\n",
       " 525,\n",
       " 526,\n",
       " 528,\n",
       " 536,\n",
       " 542,\n",
       " 550,\n",
       " 554,\n",
       " 563,\n",
       " 594,\n",
       " 600,\n",
       " 614,\n",
       " 619,\n",
       " 623,\n",
       " 643,\n",
       " 647,\n",
       " 651,\n",
       " 663,\n",
       " 690,\n",
       " 703,\n",
       " 709,\n",
       " 711,\n",
       " 712,\n",
       " 733,\n",
       " 738,\n",
       " 743,\n",
       " 756,\n",
       " 758,\n",
       " 769,\n",
       " 774,\n",
       " 776,\n",
       " 785,\n",
       " 802,\n",
       " 816,\n",
       " 818,\n",
       " 820,\n",
       " 842,\n",
       " 844,\n",
       " 847,\n",
       " 854,\n",
       " 855,\n",
       " 873,\n",
       " 883,\n",
       " 886,\n",
       " 890,\n",
       " 898,\n",
       " 907,\n",
       " 916,\n",
       " 923,\n",
       " 924,\n",
       " 925,\n",
       " 927,\n",
       " 932,\n",
       " 937,\n",
       " 943,\n",
       " 944,\n",
       " 946,\n",
       " 960,\n",
       " 971,\n",
       " 973,\n",
       " 974,\n",
       " 993,\n",
       " 996,\n",
       " 1008,\n",
       " 1010,\n",
       " 1011,\n",
       " 1012,\n",
       " 1065,\n",
       " 1087,\n",
       " 1102,\n",
       " 1103,\n",
       " 1107,\n",
       " 1111,\n",
       " 1117,\n",
       " 1127,\n",
       " 1149,\n",
       " 1151,\n",
       " 1160,\n",
       " 1174,\n",
       " 1184,\n",
       " 1190,\n",
       " 1197,\n",
       " 1206,\n",
       " 1217,\n",
       " 1224,\n",
       " 1234,\n",
       " 1242,\n",
       " 1267,\n",
       " 1269,\n",
       " 1286,\n",
       " 1303,\n",
       " 1306,\n",
       " 1307,\n",
       " 1316,\n",
       " 1317,\n",
       " 1319,\n",
       " 1322,\n",
       " 1340,\n",
       " 1342,\n",
       " 1360,\n",
       " 1363,\n",
       " 1368,\n",
       " 1374,\n",
       " 1389,\n",
       " 1395,\n",
       " 1399,\n",
       " 1400,\n",
       " 1416,\n",
       " 1419,\n",
       " 1420,\n",
       " 1461,\n",
       " 1479,\n",
       " 1494,\n",
       " 1495,\n",
       " 1501,\n",
       " 1507,\n",
       " 1552,\n",
       " 1560,\n",
       " 1561,\n",
       " 1573,\n",
       " 1577,\n",
       " 1581,\n",
       " 1603,\n",
       " 1610,\n",
       " 1611,\n",
       " 1623,\n",
       " 1633,\n",
       " 1638,\n",
       " 1640,\n",
       " 1646,\n",
       " 1648,\n",
       " 1660,\n",
       " 1663,\n",
       " 1673,\n",
       " 1678,\n",
       " 1696,\n",
       " 1701,\n",
       " 1720,\n",
       " 1724,\n",
       " 1727,\n",
       " 1733,\n",
       " 1759,\n",
       " 1763,\n",
       " 1766,\n",
       " 1771,\n",
       " 1776,\n",
       " 1777,\n",
       " 1784,\n",
       " 1800,\n",
       " 1804,\n",
       " 1816,\n",
       " 1818,\n",
       " 1824,\n",
       " 1830,\n",
       " 1854,\n",
       " 1866,\n",
       " 1881,\n",
       " 1883,\n",
       " 1896,\n",
       " 1900,\n",
       " 1903,\n",
       " 1908,\n",
       " 1912,\n",
       " 1919,\n",
       " 1921,\n",
       " 1928,\n",
       " 1937,\n",
       " 1952,\n",
       " 1960,\n",
       " 1971,\n",
       " 1987,\n",
       " 1991,\n",
       " 1995,\n",
       " 1997,\n",
       " 2010,\n",
       " 2021,\n",
       " 2029,\n",
       " 2043,\n",
       " 2044,\n",
       " 2057,\n",
       " 2068,\n",
       " 2082,\n",
       " 2087,\n",
       " 2089,\n",
       " 2090,\n",
       " 2095,\n",
       " 2097,\n",
       " 2106,\n",
       " 2108,\n",
       " 2112,\n",
       " 2126,\n",
       " 2129,\n",
       " 2164,\n",
       " 2176,\n",
       " 2177,\n",
       " 2179,\n",
       " 2187,\n",
       " 2188,\n",
       " 2192,\n",
       " 2200,\n",
       " 2233,\n",
       " 2236,\n",
       " 2238,\n",
       " 2248,\n",
       " 2252,\n",
       " 2258,\n",
       " 2261,\n",
       " 2268,\n",
       " 2278,\n",
       " 2282,\n",
       " 2301,\n",
       " 2319,\n",
       " 2324,\n",
       " 2328,\n",
       " 2334,\n",
       " 2345,\n",
       " 2356,\n",
       " 2372,\n",
       " 2384,\n",
       " 2399,\n",
       " 2409,\n",
       " 2411,\n",
       " 2413,\n",
       " 2422,\n",
       " 2423,\n",
       " 2425,\n",
       " 2426,\n",
       " 2453,\n",
       " 2459,\n",
       " 2472,\n",
       " 2507,\n",
       " 2509,\n",
       " 2513,\n",
       " 2518,\n",
       " 2523,\n",
       " 2529,\n",
       " 2543,\n",
       " 2547,\n",
       " 2561,\n",
       " 2571,\n",
       " 2574,\n",
       " 2577,\n",
       " 2597,\n",
       " 2602,\n",
       " 2607,\n",
       " 2617,\n",
       " 2628,\n",
       " 2679,\n",
       " 2694,\n",
       " 2704,\n",
       " 2713,\n",
       " 2725,\n",
       " 2727,\n",
       " 2728,\n",
       " 2731,\n",
       " 2738,\n",
       " 2756,\n",
       " 2766,\n",
       " 2772,\n",
       " 2788,\n",
       " 2792,\n",
       " 2804,\n",
       " 2807,\n",
       " 2808,\n",
       " 2816,\n",
       " 2817,\n",
       " 2829,\n",
       " 2840,\n",
       " 2841,\n",
       " 2849,\n",
       " 2859,\n",
       " 2866,\n",
       " 2888,\n",
       " 2912,\n",
       " 2930,\n",
       " 2932,\n",
       " 2949,\n",
       " 2952,\n",
       " 2966,\n",
       " 2971,\n",
       " 2985,\n",
       " 2990,\n",
       " 2995,\n",
       " 3004,\n",
       " 3006,\n",
       " 3010,\n",
       " 3013,\n",
       " 3026,\n",
       " 3032,\n",
       " 3040,\n",
       " 3045,\n",
       " 3052,\n",
       " 3054,\n",
       " 3059,\n",
       " 3064,\n",
       " 3065,\n",
       " 3068,\n",
       " 3077,\n",
       " 3094,\n",
       " 3103,\n",
       " 3104,\n",
       " 3108,\n",
       " 3117,\n",
       " 3121,\n",
       " 3139,\n",
       " 3156,\n",
       " 3157,\n",
       " 3177,\n",
       " 3197,\n",
       " 3207,\n",
       " 3208,\n",
       " 3218,\n",
       " 3226,\n",
       " 3227,\n",
       " 3228,\n",
       " 3236,\n",
       " 3239,\n",
       " 3242,\n",
       " 3249,\n",
       " 3255,\n",
       " 3270,\n",
       " 3275,\n",
       " 3282,\n",
       " 3284,\n",
       " 3288,\n",
       " 3317,\n",
       " 3332,\n",
       " 3340,\n",
       " 3348,\n",
       " 3353,\n",
       " 3354,\n",
       " 3380,\n",
       " 3396,\n",
       " 3397,\n",
       " 3406,\n",
       " 3409,\n",
       " 3410,\n",
       " 3416,\n",
       " 3429,\n",
       " 3456,\n",
       " 3458,\n",
       " 3465,\n",
       " 3467,\n",
       " 3476,\n",
       " 3487,\n",
       " 3490,\n",
       " 3500,\n",
       " 3502,\n",
       " 3509,\n",
       " 3518,\n",
       " 3538,\n",
       " 3564,\n",
       " 3585,\n",
       " 3586,\n",
       " 3602,\n",
       " 3607,\n",
       " 3618,\n",
       " 3625,\n",
       " 3636,\n",
       " 3637,\n",
       " 3643,\n",
       " 3650,\n",
       " 3665,\n",
       " 3671,\n",
       " 3675,\n",
       " 3678,\n",
       " 3685,\n",
       " 3690,\n",
       " 3705,\n",
       " 3709,\n",
       " 3712,\n",
       " 3713,\n",
       " 3721,\n",
       " 3724,\n",
       " 3732,\n",
       " 3733,\n",
       " 3737,\n",
       " 3750,\n",
       " 3762,\n",
       " 3809,\n",
       " 3828,\n",
       " 3835,\n",
       " 3836,\n",
       " 3845,\n",
       " 3848,\n",
       " 3854,\n",
       " 3870,\n",
       " 3875,\n",
       " 3881,\n",
       " 3904,\n",
       " 3916,\n",
       " 3940,\n",
       " 3954,\n",
       " 3962,\n",
       " 3965,\n",
       " 3980,\n",
       " 3989,\n",
       " 3993,\n",
       " 4021,\n",
       " 4033,\n",
       " 4034,\n",
       " 4057,\n",
       " 4079,\n",
       " 4088,\n",
       " 4097,\n",
       " 4100,\n",
       " 4103,\n",
       " 4108,\n",
       " 4117,\n",
       " 4164,\n",
       " 4170,\n",
       " 4183,\n",
       " 4187,\n",
       " 4192,\n",
       " 4215,\n",
       " 4220,\n",
       " 4233,\n",
       " 4246,\n",
       " 4252,\n",
       " 4277,\n",
       " 4295,\n",
       " 4299,\n",
       " 4308,\n",
       " 4311,\n",
       " 4316,\n",
       " 4322,\n",
       " 4336,\n",
       " 4339,\n",
       " 4350,\n",
       " 4371,\n",
       " 4376,\n",
       " 4377,\n",
       " 4407,\n",
       " 4413,\n",
       " 4414,\n",
       " 4416,\n",
       " 4419,\n",
       " 4421,\n",
       " 4422,\n",
       " 4425,\n",
       " 4429,\n",
       " 4434,\n",
       " 4444,\n",
       " 4452,\n",
       " 4454,\n",
       " 4455,\n",
       " 4478,\n",
       " 4483,\n",
       " 4485,\n",
       " 4488,\n",
       " 4489,\n",
       " 4502,\n",
       " 4506,\n",
       " 4517,\n",
       " 4526,\n",
       " 4534,\n",
       " 4536,\n",
       " 4537,\n",
       " 4538,\n",
       " 4539,\n",
       " 4548,\n",
       " 4552,\n",
       " 4553,\n",
       " 4558,\n",
       " 4566,\n",
       " 4591,\n",
       " 4604,\n",
       " 4614,\n",
       " 4622,\n",
       " 4633,\n",
       " 4660,\n",
       " 4662,\n",
       " 4678,\n",
       " 4684,\n",
       " 4685,\n",
       " 4690,\n",
       " 4695,\n",
       " 4697,\n",
       " 4702,\n",
       " 4718,\n",
       " 4746,\n",
       " 4753,\n",
       " 4758,\n",
       " 4761,\n",
       " 4784,\n",
       " 4812,\n",
       " 4813,\n",
       " 4818,\n",
       " 4837,\n",
       " 4850,\n",
       " 4874,\n",
       " 4879,\n",
       " 4881,\n",
       " 4889,\n",
       " 4891,\n",
       " 4898,\n",
       " 4905,\n",
       " 4916,\n",
       " 4924,\n",
       " 4947,\n",
       " 4953,\n",
       " 4955,\n",
       " 4969,\n",
       " 4972,\n",
       " 4980,\n",
       " 4984,\n",
       " 4988,\n",
       " 4989,\n",
       " 4993,\n",
       " 5020,\n",
       " 5025,\n",
       " 5027,\n",
       " 5049,\n",
       " 5050,\n",
       " 5051,\n",
       " 5053,\n",
       " 5059,\n",
       " 5077,\n",
       " 5079,\n",
       " 5083,\n",
       " 5102,\n",
       " 5115,\n",
       " 5117,\n",
       " 5122,\n",
       " 5137,\n",
       " 5139,\n",
       " 5148,\n",
       " 5168,\n",
       " 5172,\n",
       " 5201,\n",
       " 5202,\n",
       " 5208,\n",
       " 5219,\n",
       " 5243,\n",
       " 5244,\n",
       " 5246,\n",
       " 5251,\n",
       " 5255,\n",
       " 5265,\n",
       " 5274,\n",
       " 5295,\n",
       " 5302,\n",
       " 5311,\n",
       " 5314,\n",
       " 5315,\n",
       " 5329,\n",
       " 5340,\n",
       " 5359,\n",
       " 5379,\n",
       " 5390,\n",
       " 5392,\n",
       " 5395,\n",
       " 5398,\n",
       " 5422,\n",
       " 5435,\n",
       " 5459,\n",
       " 5467,\n",
       " 5473,\n",
       " 5485,\n",
       " 5508,\n",
       " 5509,\n",
       " 5510,\n",
       " 5515,\n",
       " 5550,\n",
       " 5551,\n",
       " 5568,\n",
       " 5573,\n",
       " 5578,\n",
       " 5580,\n",
       " 5596,\n",
       " 5603,\n",
       " 5624,\n",
       " 5635,\n",
       " 5655,\n",
       " 5656,\n",
       " 5667,\n",
       " 5684,\n",
       " 5686,\n",
       " 5699,\n",
       " 5705,\n",
       " 5712,\n",
       " 5722,\n",
       " 5724,\n",
       " 5726,\n",
       " 5733,\n",
       " 5738,\n",
       " 5749,\n",
       " 5764,\n",
       " 5780,\n",
       " 5795,\n",
       " 5799,\n",
       " 5804,\n",
       " 5806,\n",
       " 5815,\n",
       " 5827,\n",
       " 5834,\n",
       " 5839,\n",
       " 5843,\n",
       " 5845,\n",
       " 5852,\n",
       " 5866,\n",
       " 5892,\n",
       " 5921,\n",
       " 5934,\n",
       " 5947,\n",
       " 5957,\n",
       " 5970,\n",
       " 5977,\n",
       " 5990,\n",
       " 6037,\n",
       " 6039,\n",
       " 6053,\n",
       " 6057,\n",
       " 6065,\n",
       " 6074,\n",
       " 6076,\n",
       " 6086,\n",
       " 6091,\n",
       " 6093,\n",
       " 6096,\n",
       " 6103,\n",
       " 6104,\n",
       " 6108,\n",
       " 6117,\n",
       " 6126,\n",
       " 6134,\n",
       " 6135,\n",
       " 6139,\n",
       " 6153,\n",
       " 6158,\n",
       " 6173,\n",
       " 6198,\n",
       " 6220,\n",
       " 6224,\n",
       " 6230,\n",
       " 6241,\n",
       " 6244,\n",
       " 6249,\n",
       " 6256,\n",
       " 6266,\n",
       " 6269,\n",
       " 6275,\n",
       " 6278,\n",
       " 6279,\n",
       " 6286,\n",
       " 6287,\n",
       " 6291,\n",
       " 6299,\n",
       " 6303,\n",
       " 6318,\n",
       " 6335,\n",
       " 6350,\n",
       " 6355,\n",
       " 6372,\n",
       " 6378,\n",
       " 6379,\n",
       " 6381,\n",
       " 6383,\n",
       " 6397,\n",
       " 6413,\n",
       " 6418,\n",
       " 6428,\n",
       " 6430,\n",
       " 6433,\n",
       " 6437,\n",
       " 6471,\n",
       " 6477,\n",
       " 6486,\n",
       " 6488,\n",
       " 6491,\n",
       " 6498,\n",
       " 6499,\n",
       " 6504,\n",
       " 6513,\n",
       " 6519,\n",
       " 6527,\n",
       " 6532,\n",
       " 6537,\n",
       " 6548,\n",
       " 6563,\n",
       " 6569,\n",
       " 6590,\n",
       " 6592,\n",
       " 6607,\n",
       " 6624,\n",
       " 6633,\n",
       " 6654,\n",
       " 6657,\n",
       " 6659,\n",
       " 6662,\n",
       " 6665,\n",
       " 6668,\n",
       " 6669,\n",
       " 6678,\n",
       " 6697,\n",
       " 6713,\n",
       " 6720,\n",
       " 6757,\n",
       " 6762,\n",
       " 6782,\n",
       " 6783,\n",
       " 6786,\n",
       " 6788,\n",
       " 6799,\n",
       " 6800,\n",
       " 6801,\n",
       " 6807,\n",
       " 6810,\n",
       " 6814,\n",
       " 6818,\n",
       " 6846,\n",
       " 6850,\n",
       " 6859,\n",
       " 6892,\n",
       " 6909,\n",
       " 6919,\n",
       " 6934,\n",
       " 6937,\n",
       " 6941,\n",
       " 6947,\n",
       " 6978,\n",
       " 6980,\n",
       " 6991,\n",
       " 6996,\n",
       " 7003,\n",
       " 7006,\n",
       " 7015,\n",
       " 7036,\n",
       " 7046,\n",
       " 7049,\n",
       " 7050,\n",
       " 7054,\n",
       " 7068,\n",
       " 7083,\n",
       " 7089,\n",
       " 7100,\n",
       " 7101,\n",
       " 7104,\n",
       " 7112,\n",
       " 7127,\n",
       " 7133,\n",
       " 7137,\n",
       " 7141,\n",
       " 7144,\n",
       " 7146,\n",
       " 7150,\n",
       " 7170,\n",
       " 7179,\n",
       " 7236,\n",
       " 7238,\n",
       " 7241,\n",
       " 7255,\n",
       " 7256,\n",
       " 7266,\n",
       " 7268,\n",
       " 7277,\n",
       " 7285,\n",
       " 7296,\n",
       " 7301,\n",
       " 7315,\n",
       " 7323,\n",
       " 7332,\n",
       " 7358,\n",
       " 7365,\n",
       " 7371,\n",
       " 7373,\n",
       " 7374,\n",
       " 7383,\n",
       " 7389,\n",
       " 7406,\n",
       " 7410,\n",
       " 7421,\n",
       " 7428,\n",
       " 7436,\n",
       " 7442,\n",
       " 7452,\n",
       " 7454,\n",
       " 7464,\n",
       " 7475,\n",
       " 7494,\n",
       " 7498,\n",
       " 7500,\n",
       " 7511,\n",
       " 7522,\n",
       " 7532,\n",
       " 7545,\n",
       " 7546,\n",
       " 7549,\n",
       " 7557,\n",
       " 7573,\n",
       " 7590,\n",
       " 7599,\n",
       " 7623,\n",
       " 7625,\n",
       " 7629,\n",
       " 7639,\n",
       " 7646,\n",
       " 7673,\n",
       " 7676,\n",
       " 7682,\n",
       " 7690,\n",
       " 7698,\n",
       " 7706,\n",
       " 7711,\n",
       " 7722,\n",
       " 7731,\n",
       " 7743,\n",
       " 7745,\n",
       " 7748,\n",
       " 7750,\n",
       " 7758,\n",
       " 7774,\n",
       " 7780,\n",
       " 7787,\n",
       " 7789,\n",
       " 7792,\n",
       " 7807,\n",
       " 7813,\n",
       " 7821,\n",
       " 7826,\n",
       " 7827,\n",
       " 7840,\n",
       " 7844,\n",
       " 7850,\n",
       " 7859,\n",
       " 7875,\n",
       " 7881,\n",
       " 7883,\n",
       " 7906,\n",
       " 7910,\n",
       " 7922,\n",
       " 7936,\n",
       " 7938,\n",
       " 7972,\n",
       " 7976,\n",
       " 7978,\n",
       " 7986,\n",
       " 7993,\n",
       " 7997,\n",
       " 7998,\n",
       " 8007,\n",
       " 8008,\n",
       " 8021,\n",
       " 8033,\n",
       " 8042,\n",
       " 8053,\n",
       " 8079,\n",
       " 8102,\n",
       " 8111,\n",
       " 8128,\n",
       " 8138,\n",
       " 8145,\n",
       " 8152,\n",
       " 8158,\n",
       " 8166,\n",
       " 8170,\n",
       " 8175,\n",
       " 8186,\n",
       " 8194,\n",
       " 8198,\n",
       " 8201,\n",
       " 8218,\n",
       " 8228,\n",
       " 8238,\n",
       " 8241,\n",
       " 8246,\n",
       " 8254,\n",
       " 8256,\n",
       " 8262,\n",
       " 8290,\n",
       " 8293,\n",
       " 8294,\n",
       " 8312,\n",
       " 8315,\n",
       " 8337,\n",
       " 8340,\n",
       " 8348,\n",
       " 8349,\n",
       " 8354,\n",
       " 8368,\n",
       " 8369,\n",
       " 8381,\n",
       " 8387,\n",
       " 8413,\n",
       " 8429,\n",
       " 8432,\n",
       " 8434,\n",
       " 8469,\n",
       " 8473,\n",
       " 8479,\n",
       " 8490,\n",
       " 8498,\n",
       " 8505,\n",
       " 8508,\n",
       " 8510,\n",
       " 8515,\n",
       " 8522,\n",
       " 8536,\n",
       " 8539,\n",
       " 8544,\n",
       " 8559,\n",
       " 8588,\n",
       " 8592,\n",
       " 8595,\n",
       " 8598,\n",
       " 8599,\n",
       " 8611,\n",
       " 8640,\n",
       " 8645,\n",
       " 8650,\n",
       " 8653,\n",
       " 8661,\n",
       " 8671,\n",
       " 8686,\n",
       " 8701,\n",
       " 8714,\n",
       " 8715,\n",
       " 8716,\n",
       " 8726,\n",
       " 8734,\n",
       " 8740,\n",
       " 8749,\n",
       " 8761,\n",
       " 8764,\n",
       " 8766,\n",
       " 8771,\n",
       " 8789,\n",
       " 8795,\n",
       " 8797,\n",
       " 8804,\n",
       " 8806,\n",
       " 8807,\n",
       " 8822,\n",
       " 8825,\n",
       " 8838,\n",
       " 8877,\n",
       " 8878,\n",
       " 8886,\n",
       " ...]"
      ]
     },
     "execution_count": 37,
     "metadata": {},
     "output_type": "execute_result"
    }
   ],
   "source": [
    "index_list"
   ]
  },
  {
   "cell_type": "code",
   "execution_count": 38,
   "id": "85df867b",
   "metadata": {},
   "outputs": [],
   "source": [
    "# define a function called remove which returns a clean dataframe without outliers\n",
    "\n",
    "def remove(df, ls):\n",
    "    ls = sorted(set(ls))\n",
    "    df = df.drop(ls)\n",
    "    return df"
   ]
  },
  {
   "cell_type": "code",
   "execution_count": 39,
   "id": "1d3787b8",
   "metadata": {},
   "outputs": [],
   "source": [
    "df_cleaned = remove(data, index_list)"
   ]
  },
  {
   "cell_type": "code",
   "execution_count": 40,
   "id": "93433e24",
   "metadata": {},
   "outputs": [
    {
     "data": {
      "text/plain": [
       "(59209, 7)"
      ]
     },
     "execution_count": 40,
     "metadata": {},
     "output_type": "execute_result"
    }
   ],
   "source": [
    "df_cleaned.shape"
   ]
  },
  {
   "cell_type": "code",
   "execution_count": 41,
   "id": "dd28c0b9",
   "metadata": {},
   "outputs": [
    {
     "data": {
      "image/png": "[encoded data removed]",
      "text/plain": [
       "<Figure size 432x288 with 1 Axes>"
      ]
     },
     "metadata": {
      "needs_background": "light"
     },
     "output_type": "display_data"
    }
   ],
   "source": [
    "plot_boxplot(df_cleaned, \"Sale Amount\")"
   ]
  },
  {
   "cell_type": "code",
   "execution_count": 42,
   "id": "17f53ac3",
   "metadata": {},
   "outputs": [
    {
     "data": {
      "image/png": "[encoded data removed]",
      "text/plain": [
       "<Figure size 432x288 with 1 Axes>"
      ]
     },
     "metadata": {
      "needs_background": "light"
     },
     "output_type": "display_data"
    }
   ],
   "source": [
    "plot_boxplot(df_cleaned, \"Assessed Value\")"
   ]
  },
  {
   "cell_type": "code",
   "execution_count": 43,
   "id": "1916d77b",
   "metadata": {},
   "outputs": [
    {
     "data": {
      "text/html": [
       "<div>\n",
       "<style scoped>\n",
       "    .dataframe tbody tr th:only-of-type {\n",
       "        vertical-align: middle;\n",
       "    }\n",
       "\n",
       "    .dataframe tbody tr th {\n",
       "        vertical-align: top;\n",
       "    }\n",
       "\n",
       "    .dataframe thead th {\n",
       "        text-align: right;\n",
       "    }\n",
       "</style>\n",
       "<table border=\"1\" class=\"dataframe\">\n",
       "  <thead>\n",
       "    <tr style=\"text-align: right;\">\n",
       "      <th></th>\n",
       "      <th>Assessed Value</th>\n",
       "      <th>Sale Amount</th>\n",
       "      <th>Sale Month</th>\n",
       "    </tr>\n",
       "  </thead>\n",
       "  <tbody>\n",
       "    <tr>\n",
       "      <th>count</th>\n",
       "      <td>59209.000000</td>\n",
       "      <td>59209.000000</td>\n",
       "      <td>59209.000000</td>\n",
       "    </tr>\n",
       "    <tr>\n",
       "      <th>mean</th>\n",
       "      <td>165938.159570</td>\n",
       "      <td>296491.960847</td>\n",
       "      <td>6.898596</td>\n",
       "    </tr>\n",
       "    <tr>\n",
       "      <th>std</th>\n",
       "      <td>97036.956359</td>\n",
       "      <td>169034.497474</td>\n",
       "      <td>3.328492</td>\n",
       "    </tr>\n",
       "    <tr>\n",
       "      <th>min</th>\n",
       "      <td>1.000000</td>\n",
       "      <td>2000.000000</td>\n",
       "      <td>1.000000</td>\n",
       "    </tr>\n",
       "    <tr>\n",
       "      <th>25%</th>\n",
       "      <td>98000.000000</td>\n",
       "      <td>177500.000000</td>\n",
       "      <td>4.000000</td>\n",
       "    </tr>\n",
       "    <tr>\n",
       "      <th>50%</th>\n",
       "      <td>143780.000000</td>\n",
       "      <td>264000.000000</td>\n",
       "      <td>7.000000</td>\n",
       "    </tr>\n",
       "    <tr>\n",
       "      <th>75%</th>\n",
       "      <td>215700.000000</td>\n",
       "      <td>385000.000000</td>\n",
       "      <td>10.000000</td>\n",
       "    </tr>\n",
       "    <tr>\n",
       "      <th>max</th>\n",
       "      <td>493040.000000</td>\n",
       "      <td>868000.000000</td>\n",
       "      <td>12.000000</td>\n",
       "    </tr>\n",
       "  </tbody>\n",
       "</table>\n",
       "</div>"
      ],
      "text/plain": [
       "       Assessed Value    Sale Amount    Sale Month\n",
       "count    59209.000000   59209.000000  59209.000000\n",
       "mean    165938.159570  296491.960847      6.898596\n",
       "std      97036.956359  169034.497474      3.328492\n",
       "min          1.000000    2000.000000      1.000000\n",
       "25%      98000.000000  177500.000000      4.000000\n",
       "50%     143780.000000  264000.000000      7.000000\n",
       "75%     215700.000000  385000.000000     10.000000\n",
       "max     493040.000000  868000.000000     12.000000"
      ]
     },
     "execution_count": 43,
     "metadata": {},
     "output_type": "execute_result"
    }
   ],
   "source": [
    "# obtaining the descriptive statistics\n",
    "df_cleaned.describe()"
   ]
  },
  {
   "cell_type": "code",
   "execution_count": 44,
   "id": "952e991b",
   "metadata": {},
   "outputs": [],
   "source": [
    "# renaming columns to remove the word spacing in the column name\n",
    "df_cleaned.set_axis(['Town', 'Address','Assessed_Value','Sale_Amount','Property_Type', 'Residential_Type', 'Sale_Month'],axis='columns', inplace=True)"
   ]
  },
  {
   "cell_type": "code",
   "execution_count": 45,
   "id": "65baefc3",
   "metadata": {},
   "outputs": [
    {
     "data": {
      "text/html": [
       "<div>\n",
       "<style scoped>\n",
       "    .dataframe tbody tr th:only-of-type {\n",
       "        vertical-align: middle;\n",
       "    }\n",
       "\n",
       "    .dataframe tbody tr th {\n",
       "        vertical-align: top;\n",
       "    }\n",
       "\n",
       "    .dataframe thead th {\n",
       "        text-align: right;\n",
       "    }\n",
       "</style>\n",
       "<table border=\"1\" class=\"dataframe\">\n",
       "  <thead>\n",
       "    <tr style=\"text-align: right;\">\n",
       "      <th></th>\n",
       "      <th>Town</th>\n",
       "      <th>Address</th>\n",
       "      <th>Assessed_Value</th>\n",
       "      <th>Sale_Amount</th>\n",
       "      <th>Property_Type</th>\n",
       "      <th>Residential_Type</th>\n",
       "      <th>Sale_Month</th>\n",
       "    </tr>\n",
       "  </thead>\n",
       "  <tbody>\n",
       "    <tr>\n",
       "      <th>0</th>\n",
       "      <td>Ashford</td>\n",
       "      <td>390 TURNPIKE RD</td>\n",
       "      <td>253000.0</td>\n",
       "      <td>430000.0</td>\n",
       "      <td>Residential</td>\n",
       "      <td>Single Family</td>\n",
       "      <td>10.0</td>\n",
       "    </tr>\n",
       "    <tr>\n",
       "      <th>2</th>\n",
       "      <td>Bethel</td>\n",
       "      <td>16 DEEPWOOD DRIVE</td>\n",
       "      <td>171360.0</td>\n",
       "      <td>335000.0</td>\n",
       "      <td>Residential</td>\n",
       "      <td>Single Family</td>\n",
       "      <td>12.0</td>\n",
       "    </tr>\n",
       "    <tr>\n",
       "      <th>3</th>\n",
       "      <td>Bristol</td>\n",
       "      <td>9 LESLIE COURT</td>\n",
       "      <td>94920.0</td>\n",
       "      <td>155000.0</td>\n",
       "      <td>Residential</td>\n",
       "      <td>Single Family</td>\n",
       "      <td>10.0</td>\n",
       "    </tr>\n",
       "    <tr>\n",
       "      <th>4</th>\n",
       "      <td>Bristol</td>\n",
       "      <td>391 TIFFANY LA</td>\n",
       "      <td>173740.0</td>\n",
       "      <td>299000.0</td>\n",
       "      <td>Residential</td>\n",
       "      <td>Single Family</td>\n",
       "      <td>12.0</td>\n",
       "    </tr>\n",
       "    <tr>\n",
       "      <th>5</th>\n",
       "      <td>Brookfield</td>\n",
       "      <td>4 CHELSEA CT</td>\n",
       "      <td>105110.0</td>\n",
       "      <td>160000.0</td>\n",
       "      <td>Residential</td>\n",
       "      <td>Condo</td>\n",
       "      <td>11.0</td>\n",
       "    </tr>\n",
       "  </tbody>\n",
       "</table>\n",
       "</div>"
      ],
      "text/plain": [
       "         Town            Address  Assessed_Value  Sale_Amount Property_Type  \\\n",
       "0     Ashford    390 TURNPIKE RD        253000.0     430000.0   Residential   \n",
       "2      Bethel  16 DEEPWOOD DRIVE        171360.0     335000.0   Residential   \n",
       "3     Bristol     9 LESLIE COURT         94920.0     155000.0   Residential   \n",
       "4     Bristol     391 TIFFANY LA        173740.0     299000.0   Residential   \n",
       "5  Brookfield       4 CHELSEA CT        105110.0     160000.0   Residential   \n",
       "\n",
       "  Residential_Type  Sale_Month  \n",
       "0    Single Family        10.0  \n",
       "2    Single Family        12.0  \n",
       "3    Single Family        10.0  \n",
       "4    Single Family        12.0  \n",
       "5            Condo        11.0  "
      ]
     },
     "execution_count": 45,
     "metadata": {},
     "output_type": "execute_result"
    }
   ],
   "source": [
    "# checking the first five rows of df_cleaned dataframe\n",
    "df_cleaned.head()"
   ]
  },
  {
   "cell_type": "code",
   "execution_count": 46,
   "id": "1ba6147f",
   "metadata": {},
   "outputs": [],
   "source": [
    "# Saving the dataframe\n",
    "df_cleaned.to_csv(\"real_estate_FY2021_cleaned_project2.csv\", index=False)"
   ]
  },
  {
   "cell_type": "code",
   "execution_count": 47,
   "id": "fd7788ed",
   "metadata": {},
   "outputs": [
    {
     "data": {
      "text/html": [
       "<div>\n",
       "<style scoped>\n",
       "    .dataframe tbody tr th:only-of-type {\n",
       "        vertical-align: middle;\n",
       "    }\n",
       "\n",
       "    .dataframe tbody tr th {\n",
       "        vertical-align: top;\n",
       "    }\n",
       "\n",
       "    .dataframe thead th {\n",
       "        text-align: right;\n",
       "    }\n",
       "</style>\n",
       "<table border=\"1\" class=\"dataframe\">\n",
       "  <thead>\n",
       "    <tr style=\"text-align: right;\">\n",
       "      <th></th>\n",
       "      <th>Town</th>\n",
       "      <th>Address</th>\n",
       "      <th>Assessed_Value</th>\n",
       "      <th>Sale_Amount</th>\n",
       "      <th>Property_Type</th>\n",
       "      <th>Residential_Type</th>\n",
       "      <th>Sale_Month</th>\n",
       "    </tr>\n",
       "  </thead>\n",
       "  <tbody>\n",
       "    <tr>\n",
       "      <th>0</th>\n",
       "      <td>Ashford</td>\n",
       "      <td>390 TURNPIKE RD</td>\n",
       "      <td>253000.0</td>\n",
       "      <td>430000.0</td>\n",
       "      <td>Residential</td>\n",
       "      <td>Single Family</td>\n",
       "      <td>10.0</td>\n",
       "    </tr>\n",
       "    <tr>\n",
       "      <th>1</th>\n",
       "      <td>Bethel</td>\n",
       "      <td>16 DEEPWOOD DRIVE</td>\n",
       "      <td>171360.0</td>\n",
       "      <td>335000.0</td>\n",
       "      <td>Residential</td>\n",
       "      <td>Single Family</td>\n",
       "      <td>12.0</td>\n",
       "    </tr>\n",
       "    <tr>\n",
       "      <th>2</th>\n",
       "      <td>Bristol</td>\n",
       "      <td>9 LESLIE COURT</td>\n",
       "      <td>94920.0</td>\n",
       "      <td>155000.0</td>\n",
       "      <td>Residential</td>\n",
       "      <td>Single Family</td>\n",
       "      <td>10.0</td>\n",
       "    </tr>\n",
       "    <tr>\n",
       "      <th>3</th>\n",
       "      <td>Bristol</td>\n",
       "      <td>391 TIFFANY LA</td>\n",
       "      <td>173740.0</td>\n",
       "      <td>299000.0</td>\n",
       "      <td>Residential</td>\n",
       "      <td>Single Family</td>\n",
       "      <td>12.0</td>\n",
       "    </tr>\n",
       "    <tr>\n",
       "      <th>4</th>\n",
       "      <td>Brookfield</td>\n",
       "      <td>4 CHELSEA CT</td>\n",
       "      <td>105110.0</td>\n",
       "      <td>160000.0</td>\n",
       "      <td>Residential</td>\n",
       "      <td>Condo</td>\n",
       "      <td>11.0</td>\n",
       "    </tr>\n",
       "  </tbody>\n",
       "</table>\n",
       "</div>"
      ],
      "text/plain": [
       "         Town            Address  Assessed_Value  Sale_Amount Property_Type  \\\n",
       "0     Ashford    390 TURNPIKE RD        253000.0     430000.0   Residential   \n",
       "1      Bethel  16 DEEPWOOD DRIVE        171360.0     335000.0   Residential   \n",
       "2     Bristol     9 LESLIE COURT         94920.0     155000.0   Residential   \n",
       "3     Bristol     391 TIFFANY LA        173740.0     299000.0   Residential   \n",
       "4  Brookfield       4 CHELSEA CT        105110.0     160000.0   Residential   \n",
       "\n",
       "  Residential_Type  Sale_Month  \n",
       "0    Single Family        10.0  \n",
       "1    Single Family        12.0  \n",
       "2    Single Family        10.0  \n",
       "3    Single Family        12.0  \n",
       "4            Condo        11.0  "
      ]
     },
     "execution_count": 47,
     "metadata": {},
     "output_type": "execute_result"
    }
   ],
   "source": [
    "# reading the saved dataframe\n",
    "data1=pd.read_csv('real_estate_FY2021_cleaned_project2.csv')\n",
    "data1.head()"
   ]
  },
  {
   "cell_type": "code",
   "execution_count": 48,
   "id": "4e009c30",
   "metadata": {},
   "outputs": [
    {
     "data": {
      "text/html": [
       "<div>\n",
       "<style scoped>\n",
       "    .dataframe tbody tr th:only-of-type {\n",
       "        vertical-align: middle;\n",
       "    }\n",
       "\n",
       "    .dataframe tbody tr th {\n",
       "        vertical-align: top;\n",
       "    }\n",
       "\n",
       "    .dataframe thead th {\n",
       "        text-align: right;\n",
       "    }\n",
       "</style>\n",
       "<table border=\"1\" class=\"dataframe\">\n",
       "  <thead>\n",
       "    <tr style=\"text-align: right;\">\n",
       "      <th></th>\n",
       "      <th>Town</th>\n",
       "      <th>Address</th>\n",
       "      <th>Assessed_Value</th>\n",
       "      <th>Sale_Amount</th>\n",
       "      <th>Property_Type</th>\n",
       "      <th>Residential_Type</th>\n",
       "      <th>Sale_Month</th>\n",
       "    </tr>\n",
       "  </thead>\n",
       "  <tbody>\n",
       "    <tr>\n",
       "      <th>0</th>\n",
       "      <td>Ashford</td>\n",
       "      <td>390 TURNPIKE RD</td>\n",
       "      <td>253000.0</td>\n",
       "      <td>430000.0</td>\n",
       "      <td>Residential</td>\n",
       "      <td>Single Family</td>\n",
       "      <td>10.0</td>\n",
       "    </tr>\n",
       "    <tr>\n",
       "      <th>1</th>\n",
       "      <td>Bethel</td>\n",
       "      <td>16 DEEPWOOD DRIVE</td>\n",
       "      <td>171360.0</td>\n",
       "      <td>335000.0</td>\n",
       "      <td>Residential</td>\n",
       "      <td>Single Family</td>\n",
       "      <td>12.0</td>\n",
       "    </tr>\n",
       "    <tr>\n",
       "      <th>2</th>\n",
       "      <td>Bristol</td>\n",
       "      <td>9 LESLIE COURT</td>\n",
       "      <td>94920.0</td>\n",
       "      <td>155000.0</td>\n",
       "      <td>Residential</td>\n",
       "      <td>Single Family</td>\n",
       "      <td>10.0</td>\n",
       "    </tr>\n",
       "    <tr>\n",
       "      <th>3</th>\n",
       "      <td>Bristol</td>\n",
       "      <td>391 TIFFANY LA</td>\n",
       "      <td>173740.0</td>\n",
       "      <td>299000.0</td>\n",
       "      <td>Residential</td>\n",
       "      <td>Single Family</td>\n",
       "      <td>12.0</td>\n",
       "    </tr>\n",
       "    <tr>\n",
       "      <th>4</th>\n",
       "      <td>Brookfield</td>\n",
       "      <td>4 CHELSEA CT</td>\n",
       "      <td>105110.0</td>\n",
       "      <td>160000.0</td>\n",
       "      <td>Residential</td>\n",
       "      <td>Condo</td>\n",
       "      <td>11.0</td>\n",
       "    </tr>\n",
       "  </tbody>\n",
       "</table>\n",
       "</div>"
      ],
      "text/plain": [
       "         Town            Address  Assessed_Value  Sale_Amount Property_Type  \\\n",
       "0     Ashford    390 TURNPIKE RD        253000.0     430000.0   Residential   \n",
       "1      Bethel  16 DEEPWOOD DRIVE        171360.0     335000.0   Residential   \n",
       "2     Bristol     9 LESLIE COURT         94920.0     155000.0   Residential   \n",
       "3     Bristol     391 TIFFANY LA        173740.0     299000.0   Residential   \n",
       "4  Brookfield       4 CHELSEA CT        105110.0     160000.0   Residential   \n",
       "\n",
       "  Residential_Type  Sale_Month  \n",
       "0    Single Family        10.0  \n",
       "1    Single Family        12.0  \n",
       "2    Single Family        10.0  \n",
       "3    Single Family        12.0  \n",
       "4            Condo        11.0  "
      ]
     },
     "execution_count": 48,
     "metadata": {},
     "output_type": "execute_result"
    }
   ],
   "source": [
    "data1.head()"
   ]
  },
  {
   "cell_type": "code",
   "execution_count": 49,
   "id": "6c70874f",
   "metadata": {},
   "outputs": [
    {
     "data": {
      "text/plain": [
       "array([[<AxesSubplot:title={'center':'Assessed_Value'}>,\n",
       "        <AxesSubplot:title={'center':'Sale_Amount'}>],\n",
       "       [<AxesSubplot:title={'center':'Sale_Month'}>, <AxesSubplot:>]],\n",
       "      dtype=object)"
      ]
     },
     "execution_count": 49,
     "metadata": {},
     "output_type": "execute_result"
    },
    {
     "data": {
      "image/png": "[encoded data removed]",
      "text/plain": [
       "<Figure size 1080x576 with 4 Axes>"
      ]
     },
     "metadata": {
      "needs_background": "light"
     },
     "output_type": "display_data"
    }
   ],
   "source": [
    "# plotting histograms for each numerical column to check the data distribution\n",
    "data1.hist(figsize=(15,8))"
   ]
  },
  {
   "cell_type": "code",
   "execution_count": 50,
   "id": "ac73291a",
   "metadata": {},
   "outputs": [
    {
     "data": {
      "text/plain": [
       "<AxesSubplot:>"
      ]
     },
     "execution_count": 50,
     "metadata": {},
     "output_type": "execute_result"
    },
    {
     "data": {
      "image/png": "[encoded data removed]",
      "text/plain": [
       "<Figure size 1080x576 with 2 Axes>"
      ]
     },
     "metadata": {
      "needs_background": "light"
     },
     "output_type": "display_data"
    }
   ],
   "source": [
    "# plotting a heatmap to obtaing the correlation between the numerical features\n",
    "plt.figure(figsize=(15,8))\n",
    "sns.heatmap(data1.corr(), annot=True, cmap=\"YlGnBu\")"
   ]
  },
  {
   "cell_type": "code",
   "execution_count": 51,
   "id": "0c15731c",
   "metadata": {},
   "outputs": [
    {
     "data": {
      "text/plain": [
       "False"
      ]
     },
     "execution_count": 51,
     "metadata": {},
     "output_type": "execute_result"
    }
   ],
   "source": [
    "#using a pandas method called api that detects the types or checks for the string datatype in any column.\n",
    "pd.api.types.is_string_dtype(data1[\"Assessed_Value\"])"
   ]
  },
  {
   "cell_type": "code",
   "execution_count": 52,
   "id": "ca73bbbf",
   "metadata": {},
   "outputs": [
    {
     "name": "stdout",
     "output_type": "stream",
     "text": [
      "Town\n",
      "Address\n",
      "Property_Type\n",
      "Residential_Type\n"
     ]
    }
   ],
   "source": [
    "# Find the columns which contain strings\n",
    "for label, content in data1.items():\n",
    "    if pd.api.types.is_string_dtype(content):\n",
    "        print(label)"
   ]
  },
  {
   "cell_type": "code",
   "execution_count": 53,
   "id": "46b0393f",
   "metadata": {},
   "outputs": [],
   "source": [
    "# This will turn all of the string value into category values\n",
    "for label, content in data1.items():\n",
    "    if pd.api.types.is_string_dtype(content):\n",
    "        data1[label] = content.astype(\"category\").cat.as_ordered()"
   ]
  },
  {
   "cell_type": "code",
   "execution_count": 54,
   "id": "623c437b",
   "metadata": {},
   "outputs": [
    {
     "name": "stdout",
     "output_type": "stream",
     "text": [
      "<class 'pandas.core.frame.DataFrame'>\n",
      "RangeIndex: 59209 entries, 0 to 59208\n",
      "Data columns (total 7 columns):\n",
      " #   Column            Non-Null Count  Dtype   \n",
      "---  ------            --------------  -----   \n",
      " 0   Town              59209 non-null  category\n",
      " 1   Address           59209 non-null  category\n",
      " 2   Assessed_Value    59209 non-null  float64 \n",
      " 3   Sale_Amount       59209 non-null  float64 \n",
      " 4   Property_Type     59209 non-null  category\n",
      " 5   Residential_Type  59209 non-null  category\n",
      " 6   Sale_Month        59209 non-null  float64 \n",
      "dtypes: category(4), float64(3)\n",
      "memory usage: 4.3 MB\n"
     ]
    }
   ],
   "source": [
    "data1.info()"
   ]
  },
  {
   "cell_type": "code",
   "execution_count": 55,
   "id": "a166988f",
   "metadata": {},
   "outputs": [],
   "source": [
    "# Turn categorical variables into numbers\n",
    "for label, content in data1.items():\n",
    "    if not pd.api.types.is_numeric_dtype(content):\n",
    "        # Turn categories into numbers\n",
    "        data1[label] = pd.Categorical(content).codes"
   ]
  },
  {
   "cell_type": "code",
   "execution_count": 56,
   "id": "12e1f80b",
   "metadata": {},
   "outputs": [
    {
     "data": {
      "text/html": [
       "<div>\n",
       "<style scoped>\n",
       "    .dataframe tbody tr th:only-of-type {\n",
       "        vertical-align: middle;\n",
       "    }\n",
       "\n",
       "    .dataframe tbody tr th {\n",
       "        vertical-align: top;\n",
       "    }\n",
       "\n",
       "    .dataframe thead th {\n",
       "        text-align: right;\n",
       "    }\n",
       "</style>\n",
       "<table border=\"1\" class=\"dataframe\">\n",
       "  <thead>\n",
       "    <tr style=\"text-align: right;\">\n",
       "      <th></th>\n",
       "      <th>Town</th>\n",
       "      <th>Address</th>\n",
       "      <th>Assessed_Value</th>\n",
       "      <th>Sale_Amount</th>\n",
       "      <th>Property_Type</th>\n",
       "      <th>Residential_Type</th>\n",
       "      <th>Sale_Month</th>\n",
       "    </tr>\n",
       "  </thead>\n",
       "  <tbody>\n",
       "    <tr>\n",
       "      <th>0</th>\n",
       "      <td>2</td>\n",
       "      <td>34066</td>\n",
       "      <td>253000.0</td>\n",
       "      <td>430000.0</td>\n",
       "      <td>4</td>\n",
       "      <td>3</td>\n",
       "      <td>10.0</td>\n",
       "    </tr>\n",
       "    <tr>\n",
       "      <th>1</th>\n",
       "      <td>8</td>\n",
       "      <td>12586</td>\n",
       "      <td>171360.0</td>\n",
       "      <td>335000.0</td>\n",
       "      <td>4</td>\n",
       "      <td>3</td>\n",
       "      <td>12.0</td>\n",
       "    </tr>\n",
       "    <tr>\n",
       "      <th>2</th>\n",
       "      <td>16</td>\n",
       "      <td>54024</td>\n",
       "      <td>94920.0</td>\n",
       "      <td>155000.0</td>\n",
       "      <td>4</td>\n",
       "      <td>3</td>\n",
       "      <td>10.0</td>\n",
       "    </tr>\n",
       "    <tr>\n",
       "      <th>3</th>\n",
       "      <td>16</td>\n",
       "      <td>34080</td>\n",
       "      <td>173740.0</td>\n",
       "      <td>299000.0</td>\n",
       "      <td>4</td>\n",
       "      <td>3</td>\n",
       "      <td>12.0</td>\n",
       "    </tr>\n",
       "    <tr>\n",
       "      <th>4</th>\n",
       "      <td>17</td>\n",
       "      <td>34288</td>\n",
       "      <td>105110.0</td>\n",
       "      <td>160000.0</td>\n",
       "      <td>4</td>\n",
       "      <td>0</td>\n",
       "      <td>11.0</td>\n",
       "    </tr>\n",
       "  </tbody>\n",
       "</table>\n",
       "</div>"
      ],
      "text/plain": [
       "   Town  Address  Assessed_Value  Sale_Amount  Property_Type  \\\n",
       "0     2    34066        253000.0     430000.0              4   \n",
       "1     8    12586        171360.0     335000.0              4   \n",
       "2    16    54024         94920.0     155000.0              4   \n",
       "3    16    34080        173740.0     299000.0              4   \n",
       "4    17    34288        105110.0     160000.0              4   \n",
       "\n",
       "   Residential_Type  Sale_Month  \n",
       "0                 3        10.0  \n",
       "1                 3        12.0  \n",
       "2                 3        10.0  \n",
       "3                 3        12.0  \n",
       "4                 0        11.0  "
      ]
     },
     "execution_count": 56,
     "metadata": {},
     "output_type": "execute_result"
    }
   ],
   "source": [
    "data1.head()"
   ]
  },
  {
   "cell_type": "code",
   "execution_count": 57,
   "id": "30a63f8c",
   "metadata": {},
   "outputs": [],
   "source": [
    "# saving encoded dataframe\n",
    "data1.to_csv(\"real_estate_FY2021_encodeded.csv\", index=False)"
   ]
  },
  {
   "cell_type": "code",
   "execution_count": 58,
   "id": "e304e5de",
   "metadata": {},
   "outputs": [],
   "source": [
    "# split Data into X and y  \n",
    "X = data1.drop(\"Sale_Amount\", axis=1)\n",
    "y= data1[\"Sale_Amount\"]"
   ]
  },
  {
   "cell_type": "code",
   "execution_count": 59,
   "id": "4bce44ff",
   "metadata": {},
   "outputs": [
    {
     "data": {
      "text/plain": [
       "((47367, 6), (11842, 6), (47367,), (11842,))"
      ]
     },
     "execution_count": 59,
     "metadata": {},
     "output_type": "execute_result"
    }
   ],
   "source": [
    "# splitting the data into the train_test sets\n",
    "from sklearn.model_selection import train_test_split\n",
    "X_train, X_test, y_train, y_test = train_test_split(X, y, test_size=0.2, random_state=42)\n",
    "\n",
    "X_train.shape, X_test.shape, y_train.shape, y_test.shape"
   ]
  },
  {
   "cell_type": "code",
   "execution_count": 60,
   "id": "794dcf97",
   "metadata": {},
   "outputs": [
    {
     "data": {
      "text/plain": [
       "BaggingRegressor()"
      ]
     },
     "execution_count": 60,
     "metadata": {},
     "output_type": "execute_result"
    }
   ],
   "source": [
    "from sklearn.svm import SVR\n",
    "from sklearn.ensemble import BaggingRegressor\n",
    "reg = BaggingRegressor()\n",
    "reg.fit(X_train, y_train)"
   ]
  },
  {
   "cell_type": "code",
   "execution_count": 61,
   "id": "1823c835",
   "metadata": {},
   "outputs": [
    {
     "data": {
      "text/plain": [
       "0.9557015826070558"
      ]
     },
     "execution_count": 61,
     "metadata": {},
     "output_type": "execute_result"
    }
   ],
   "source": [
    "reg.score(X_train, y_train)"
   ]
  },
  {
   "cell_type": "code",
   "execution_count": 62,
   "id": "35ab3daa",
   "metadata": {},
   "outputs": [
    {
     "data": {
      "text/plain": [
       "0.7418754958812539"
      ]
     },
     "execution_count": 62,
     "metadata": {},
     "output_type": "execute_result"
    }
   ],
   "source": [
    "reg.score(X_test, y_test)"
   ]
  },
  {
   "cell_type": "code",
   "execution_count": 63,
   "id": "a68e7e3e",
   "metadata": {},
   "outputs": [
    {
     "name": "stdout",
     "output_type": "stream",
     "text": [
      "CPU times: total: 19.3 s\n",
      "Wall time: 19.6 s\n"
     ]
    },
    {
     "data": {
      "text/plain": [
       "RandomForestRegressor()"
      ]
     },
     "execution_count": 63,
     "metadata": {},
     "output_type": "execute_result"
    }
   ],
   "source": [
    "%%time\n",
    "from sklearn.ensemble import RandomForestRegressor\n",
    "#Initiate model\n",
    "model = RandomForestRegressor(\n",
    "                             )\n",
    "model.fit(X_train, y_train)"
   ]
  },
  {
   "cell_type": "code",
   "execution_count": 64,
   "id": "f3d02b2a",
   "metadata": {},
   "outputs": [
    {
     "data": {
      "text/plain": [
       "0.9678088209035972"
      ]
     },
     "execution_count": 64,
     "metadata": {},
     "output_type": "execute_result"
    }
   ],
   "source": [
    "model.score(X_train, y_train)"
   ]
  },
  {
   "cell_type": "code",
   "execution_count": 65,
   "id": "4da475f0",
   "metadata": {},
   "outputs": [
    {
     "data": {
      "text/plain": [
       "0.7629426436076325"
      ]
     },
     "execution_count": 65,
     "metadata": {},
     "output_type": "execute_result"
    }
   ],
   "source": [
    "model.score(X_test, y_test)"
   ]
  },
  {
   "cell_type": "code",
   "execution_count": 66,
   "id": "6d1f2e8f",
   "metadata": {},
   "outputs": [
    {
     "name": "stdout",
     "output_type": "stream",
     "text": [
      "CPU times: total: 62.5 ms\n",
      "Wall time: 27 ms\n"
     ]
    },
    {
     "data": {
      "text/plain": [
       "LinearRegression()"
      ]
     },
     "execution_count": 66,
     "metadata": {},
     "output_type": "execute_result"
    }
   ],
   "source": [
    "%%time\n",
    "from sklearn import linear_model\n",
    "#Initiate model\n",
    "model2 = linear_model.LinearRegression(\n",
    "                             )\n",
    "model2.fit(X_train, y_train)"
   ]
  },
  {
   "cell_type": "code",
   "execution_count": 67,
   "id": "a756d0df",
   "metadata": {},
   "outputs": [
    {
     "data": {
      "text/plain": [
       "0.7380909641965041"
      ]
     },
     "execution_count": 67,
     "metadata": {},
     "output_type": "execute_result"
    }
   ],
   "source": [
    "model2.score(X_train, y_train)"
   ]
  },
  {
   "cell_type": "code",
   "execution_count": 68,
   "id": "46f51c61",
   "metadata": {},
   "outputs": [
    {
     "data": {
      "text/plain": [
       "0.7222825965165862"
      ]
     },
     "execution_count": 68,
     "metadata": {},
     "output_type": "execute_result"
    }
   ],
   "source": [
    "model2.score(X_test, y_test)"
   ]
  },
  {
   "cell_type": "code",
   "execution_count": 69,
   "id": "a092134c",
   "metadata": {},
   "outputs": [
    {
     "data": {
      "text/html": [
       "<div>\n",
       "<style scoped>\n",
       "    .dataframe tbody tr th:only-of-type {\n",
       "        vertical-align: middle;\n",
       "    }\n",
       "\n",
       "    .dataframe tbody tr th {\n",
       "        vertical-align: top;\n",
       "    }\n",
       "\n",
       "    .dataframe thead th {\n",
       "        text-align: right;\n",
       "    }\n",
       "</style>\n",
       "<table border=\"1\" class=\"dataframe\">\n",
       "  <thead>\n",
       "    <tr style=\"text-align: right;\">\n",
       "      <th></th>\n",
       "      <th>Town</th>\n",
       "      <th>Address</th>\n",
       "      <th>Assessed_Value</th>\n",
       "      <th>Property_Type</th>\n",
       "      <th>Residential_Type</th>\n",
       "      <th>Sale_Month</th>\n",
       "    </tr>\n",
       "  </thead>\n",
       "  <tbody>\n",
       "    <tr>\n",
       "      <th>0</th>\n",
       "      <td>0.000008</td>\n",
       "      <td>0.133444</td>\n",
       "      <td>0.991056</td>\n",
       "      <td>0.000016</td>\n",
       "      <td>0.000012</td>\n",
       "      <td>0.000039</td>\n",
       "    </tr>\n",
       "    <tr>\n",
       "      <th>1</th>\n",
       "      <td>0.000047</td>\n",
       "      <td>0.073250</td>\n",
       "      <td>0.997314</td>\n",
       "      <td>0.000023</td>\n",
       "      <td>0.000017</td>\n",
       "      <td>0.000070</td>\n",
       "    </tr>\n",
       "    <tr>\n",
       "      <th>2</th>\n",
       "      <td>0.000146</td>\n",
       "      <td>0.494647</td>\n",
       "      <td>0.869094</td>\n",
       "      <td>0.000037</td>\n",
       "      <td>0.000027</td>\n",
       "      <td>0.000092</td>\n",
       "    </tr>\n",
       "    <tr>\n",
       "      <th>3</th>\n",
       "      <td>0.000090</td>\n",
       "      <td>0.192487</td>\n",
       "      <td>0.981300</td>\n",
       "      <td>0.000023</td>\n",
       "      <td>0.000017</td>\n",
       "      <td>0.000068</td>\n",
       "    </tr>\n",
       "    <tr>\n",
       "      <th>4</th>\n",
       "      <td>0.000154</td>\n",
       "      <td>0.310127</td>\n",
       "      <td>0.950695</td>\n",
       "      <td>0.000036</td>\n",
       "      <td>0.000000</td>\n",
       "      <td>0.000099</td>\n",
       "    </tr>\n",
       "  </tbody>\n",
       "</table>\n",
       "</div>"
      ],
      "text/plain": [
       "       Town   Address  Assessed_Value  Property_Type  Residential_Type  \\\n",
       "0  0.000008  0.133444        0.991056       0.000016          0.000012   \n",
       "1  0.000047  0.073250        0.997314       0.000023          0.000017   \n",
       "2  0.000146  0.494647        0.869094       0.000037          0.000027   \n",
       "3  0.000090  0.192487        0.981300       0.000023          0.000017   \n",
       "4  0.000154  0.310127        0.950695       0.000036          0.000000   \n",
       "\n",
       "   Sale_Month  \n",
       "0    0.000039  \n",
       "1    0.000070  \n",
       "2    0.000092  \n",
       "3    0.000068  \n",
       "4    0.000099  "
      ]
     },
     "execution_count": 69,
     "metadata": {},
     "output_type": "execute_result"
    }
   ],
   "source": [
    "# normalizing the dataframe\n",
    "from sklearn import preprocessing \n",
    "d=preprocessing.normalize(X)\n",
    "X_scaled_data=pd.DataFrame(d, columns=X.columns)\n",
    "X_scaled_data.head()"
   ]
  },
  {
   "cell_type": "code",
   "execution_count": 70,
   "id": "902cec46",
   "metadata": {},
   "outputs": [
    {
     "data": {
      "text/plain": [
       "((47367, 6), (11842, 6), (47367,), (11842,))"
      ]
     },
     "execution_count": 70,
     "metadata": {},
     "output_type": "execute_result"
    }
   ],
   "source": [
    "# splitting the normalized data into the train_test sets\n",
    "from sklearn.model_selection import train_test_split\n",
    "X_train, X_test, y_train, y_test = train_test_split(X_scaled_data, y, test_size=0.2, random_state=42)\n",
    "\n",
    "X_train.shape, X_test.shape, y_train.shape, y_test.shape"
   ]
  },
  {
   "cell_type": "code",
   "execution_count": 73,
   "id": "a28f63df",
   "metadata": {},
   "outputs": [
    {
     "data": {
      "text/plain": [
       "-2.8661885251067862"
      ]
     },
     "execution_count": 73,
     "metadata": {},
     "output_type": "execute_result"
    }
   ],
   "source": [
    "model2.score(X_train, y_train)"
   ]
  },
  {
   "cell_type": "code",
   "execution_count": 74,
   "id": "4537c456",
   "metadata": {},
   "outputs": [
    {
     "data": {
      "text/plain": [
       "-2.7850437968958066"
      ]
     },
     "execution_count": 74,
     "metadata": {},
     "output_type": "execute_result"
    }
   ],
   "source": [
    "model2.score(X_test, y_test)"
   ]
  },
  {
   "cell_type": "code",
   "execution_count": 75,
   "id": "17e0bf56",
   "metadata": {},
   "outputs": [],
   "source": [
    "# Create an evaluation function that uses RMSLE\n",
    "from sklearn.metrics import mean_squared_log_error, mean_absolute_error, r2_score\n",
    "\n",
    "def rmsle(y_test, y_preds):\n",
    "    \"\"\"\n",
    "    Caculates root mean squared log error between predictions and\n",
    "    true labels.\n",
    "    \"\"\"\n",
    "    return np.sqrt(mean_squared_log_error(y_test, y_preds))\n",
    "\n",
    "# Create function to evaluate model on a few different levels\n",
    "def show_scores(model):\n",
    "    train_preds = model.predict(X_train)\n",
    "    test_preds = model.predict(X_test)\n",
    "    scores = {\"Training MAE\": mean_absolute_error(y_train, train_preds),\n",
    "              \"Test MAE\": mean_absolute_error(y_test, test_preds),\n",
    "              \"Training RMSLE\": rmsle(y_train, train_preds),\n",
    "              \"Test RMSLE\": rmsle(y_test, test_preds),\n",
    "              \"Training R^2\": r2_score(y_train, train_preds),\n",
    "              \"Test R^2\": r2_score(y_test, test_preds)}\n",
    "    return scores"
   ]
  },
  {
   "cell_type": "code",
   "execution_count": 76,
   "id": "a96ddf6d",
   "metadata": {},
   "outputs": [
    {
     "data": {
      "text/plain": [
       "{'Training MAE': 136718.21303439102,\n",
       " 'Test MAE': 138006.0258174295,\n",
       " 'Training RMSLE': 0.7759468397861006,\n",
       " 'Test RMSLE': 0.8002909914432793,\n",
       " 'Training R^2': -0.015132341360829527,\n",
       " 'Test R^2': -0.016600563624297626}"
      ]
     },
     "execution_count": 76,
     "metadata": {},
     "output_type": "execute_result"
    }
   ],
   "source": [
    "show_scores(model)"
   ]
  },
  {
   "cell_type": "code",
   "execution_count": 77,
   "id": "e69adcbd",
   "metadata": {},
   "outputs": [],
   "source": [
    "y_preds = model.predict(X_test)"
   ]
  },
  {
   "cell_type": "code",
   "execution_count": 78,
   "id": "c0e5e04a",
   "metadata": {},
   "outputs": [
    {
     "data": {
      "text/html": [
       "<div>\n",
       "<style scoped>\n",
       "    .dataframe tbody tr th:only-of-type {\n",
       "        vertical-align: middle;\n",
       "    }\n",
       "\n",
       "    .dataframe tbody tr th {\n",
       "        vertical-align: top;\n",
       "    }\n",
       "\n",
       "    .dataframe thead th {\n",
       "        text-align: right;\n",
       "    }\n",
       "</style>\n",
       "<table border=\"1\" class=\"dataframe\">\n",
       "  <thead>\n",
       "    <tr style=\"text-align: right;\">\n",
       "      <th></th>\n",
       "      <th>y_preds</th>\n",
       "    </tr>\n",
       "  </thead>\n",
       "  <tbody>\n",
       "    <tr>\n",
       "      <th>44534</th>\n",
       "      <td>317483.75</td>\n",
       "    </tr>\n",
       "    <tr>\n",
       "      <th>33784</th>\n",
       "      <td>317483.75</td>\n",
       "    </tr>\n",
       "    <tr>\n",
       "      <th>36986</th>\n",
       "      <td>317483.75</td>\n",
       "    </tr>\n",
       "    <tr>\n",
       "      <th>50404</th>\n",
       "      <td>317483.75</td>\n",
       "    </tr>\n",
       "    <tr>\n",
       "      <th>11744</th>\n",
       "      <td>317483.75</td>\n",
       "    </tr>\n",
       "    <tr>\n",
       "      <th>...</th>\n",
       "      <td>...</td>\n",
       "    </tr>\n",
       "    <tr>\n",
       "      <th>2284</th>\n",
       "      <td>317483.75</td>\n",
       "    </tr>\n",
       "    <tr>\n",
       "      <th>51171</th>\n",
       "      <td>317483.75</td>\n",
       "    </tr>\n",
       "    <tr>\n",
       "      <th>17089</th>\n",
       "      <td>317483.75</td>\n",
       "    </tr>\n",
       "    <tr>\n",
       "      <th>53507</th>\n",
       "      <td>317483.75</td>\n",
       "    </tr>\n",
       "    <tr>\n",
       "      <th>30745</th>\n",
       "      <td>317483.75</td>\n",
       "    </tr>\n",
       "  </tbody>\n",
       "</table>\n",
       "<p>11842 rows × 1 columns</p>\n",
       "</div>"
      ],
      "text/plain": [
       "         y_preds\n",
       "44534  317483.75\n",
       "33784  317483.75\n",
       "36986  317483.75\n",
       "50404  317483.75\n",
       "11744  317483.75\n",
       "...          ...\n",
       "2284   317483.75\n",
       "51171  317483.75\n",
       "17089  317483.75\n",
       "53507  317483.75\n",
       "30745  317483.75\n",
       "\n",
       "[11842 rows x 1 columns]"
      ]
     },
     "execution_count": 78,
     "metadata": {},
     "output_type": "execute_result"
    }
   ],
   "source": [
    "df_y_preds = pd.DataFrame(data=y_preds, columns=['y_preds'], index=X_test.index.copy())\n",
    "df_y_preds"
   ]
  },
  {
   "cell_type": "code",
   "execution_count": 79,
   "id": "0a06e389",
   "metadata": {},
   "outputs": [
    {
     "data": {
      "text/plain": [
       "44534    417500.0\n",
       "33784    430000.0\n",
       "36986    320000.0\n",
       "50404    555000.0\n",
       "11744    182000.0\n",
       "           ...   \n",
       "2284     189000.0\n",
       "51171    112902.0\n",
       "17089    125000.0\n",
       "53507    178000.0\n",
       "30745    305000.0\n",
       "Name: Sale_Amount, Length: 11842, dtype: float64"
      ]
     },
     "execution_count": 79,
     "metadata": {},
     "output_type": "execute_result"
    }
   ],
   "source": [
    "y_test"
   ]
  },
  {
   "cell_type": "code",
   "execution_count": 80,
   "id": "f971baaa",
   "metadata": {},
   "outputs": [
    {
     "data": {
      "text/plain": [
       "array([0.05801145, 0.07008957, 0.81718614, 0.01021175, 0.01466424,\n",
       "       0.02983685])"
      ]
     },
     "execution_count": 80,
     "metadata": {},
     "output_type": "execute_result"
    }
   ],
   "source": [
    "# Find feature importance of our best model\n",
    "model.feature_importances_"
   ]
  },
  {
   "cell_type": "code",
   "execution_count": 81,
   "id": "65a1ffc6",
   "metadata": {},
   "outputs": [],
   "source": [
    "# Helper function for plotting feature importance\n",
    "def plot_features(columns, importances, n=12):\n",
    "    df = (pd.DataFrame({\"features\": columns,\n",
    "                        \"feature_importances\": importances})\n",
    "          .sort_values(\"feature_importances\", ascending=False)\n",
    "          .reset_index(drop=True))\n",
    "    \n",
    "    # Plot the dataframe\n",
    "    fig, ax = plt.subplots()\n",
    "    ax.barh(df[\"features\"][:n], df[\"feature_importances\"][:12])\n",
    "    ax.set_ylabel(\"Features\")\n",
    "    ax.set_xlabel(\"Feature importance\")\n",
    "    ax.invert_yaxis()"
   ]
  },
  {
   "cell_type": "code",
   "execution_count": 82,
   "id": "ecfaddef",
   "metadata": {},
   "outputs": [
    {
     "data": {
      "image/png": "[encoded data removed]",
      "text/plain": [
       "<Figure size 432x288 with 1 Axes>"
      ]
     },
     "metadata": {
      "needs_background": "light"
     },
     "output_type": "display_data"
    }
   ],
   "source": [
    "plot_features(X_train.columns, model.feature_importances_)"
   ]
  },
  {
   "cell_type": "code",
   "execution_count": 83,
   "id": "24093801",
   "metadata": {},
   "outputs": [
    {
     "data": {
      "text/plain": [
       "56834    9\n",
       "56980    9\n",
       "131      8\n",
       "56517    7\n",
       "56540    5\n",
       "        ..\n",
       "46039    1\n",
       "54970    1\n",
       "46232    1\n",
       "40181    1\n",
       "15150    1\n",
       "Name: Address, Length: 57028, dtype: int64"
      ]
     },
     "execution_count": 83,
     "metadata": {},
     "output_type": "execute_result"
    }
   ],
   "source": [
    "data1['Address'].value_counts()"
   ]
  },
  {
   "cell_type": "code",
   "execution_count": 84,
   "id": "b3d24484",
   "metadata": {},
   "outputs": [
    {
     "data": {
      "text/plain": [
       "127    2344\n",
       "112    2019\n",
       "87     1562\n",
       "30     1548\n",
       "130    1349\n",
       "       ... \n",
       "122      21\n",
       "14       11\n",
       "82        3\n",
       "108       2\n",
       "32        1\n",
       "Name: Town, Length: 144, dtype: int64"
      ]
     },
     "execution_count": 84,
     "metadata": {},
     "output_type": "execute_result"
    }
   ],
   "source": [
    "data1['Town'].value_counts()"
   ]
  },
  {
   "cell_type": "code",
   "execution_count": 85,
   "id": "2643ba60",
   "metadata": {},
   "outputs": [],
   "source": [
    "import pickle\n",
    "\n",
    "# Save an existing model to file\n",
    "pickle.dump(model, open(\"my_first_project_model3.pkl\", \"wb\"))"
   ]
  },
  {
   "cell_type": "code",
   "execution_count": 86,
   "id": "77fb2941",
   "metadata": {},
   "outputs": [],
   "source": [
    "loaded_pickle_model = pickle.load(open(\"my_first_project_model3.pkl\", \"rb\"))"
   ]
  },
  {
   "cell_type": "code",
   "execution_count": 87,
   "id": "89d4d789",
   "metadata": {},
   "outputs": [],
   "source": [
    "pickle_y_preds = loaded_pickle_model.predict(X_test)\n"
   ]
  },
  {
   "cell_type": "code",
   "execution_count": 88,
   "id": "cb3039da",
   "metadata": {},
   "outputs": [
    {
     "data": {
      "text/plain": [
       "array([317483.75, 317483.75, 317483.75, ..., 317483.75, 317483.75,\n",
       "       317483.75])"
      ]
     },
     "execution_count": 88,
     "metadata": {},
     "output_type": "execute_result"
    }
   ],
   "source": [
    "pickle_y_preds"
   ]
  },
  {
   "cell_type": "code",
   "execution_count": null,
   "id": "cf6bea01",
   "metadata": {},
   "outputs": [],
   "source": []
  },
  {
   "cell_type": "code",
   "execution_count": null,
   "id": "3227188e",
   "metadata": {},
   "outputs": [],
   "source": []
  },
  {
   "cell_type": "code",
   "execution_count": null,
   "id": "e82b9172",
   "metadata": {},
   "outputs": [],
   "source": []
  },
  {
   "cell_type": "code",
   "execution_count": null,
   "id": "f1fe1383",
   "metadata": {},
   "outputs": [],
   "source": []
  },
  {
   "cell_type": "code",
   "execution_count": null,
   "id": "636d9773",
   "metadata": {},
   "outputs": [],
   "source": []
  },
  {
   "cell_type": "code",
   "execution_count": null,
   "id": "b9fa47b3",
   "metadata": {},
   "outputs": [],
   "source": []
  }
 ],
 "metadata": {
  "kernelspec": {
   "display_name": "Python 3 (ipykernel)",
   "language": "python",
   "name": "python3"
  },
  "language_info": {
   "codemirror_mode": {
    "name": "ipython",
    "version": 3
   },
   "file_extension": ".py",
   "mimetype": "text/x-python",
   "name": "python",
   "nbconvert_exporter": "python",
   "pygments_lexer": "ipython3",
   "version": "3.9.12"
  }
 },
 "nbformat": 4,
 "nbformat_minor": 5
}
